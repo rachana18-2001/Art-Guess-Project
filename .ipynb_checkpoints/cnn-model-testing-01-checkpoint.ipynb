{
 "cells": [
  {
   "cell_type": "markdown",
   "metadata": {},
   "source": [
    "# Testing CNN performance which had val_accuracy upto 75% "
   ]
  },
  {
   "cell_type": "code",
   "execution_count": 3,
   "metadata": {},
   "outputs": [],
   "source": [
    "from keras.models import load_model"
   ]
  },
  {
   "cell_type": "code",
   "execution_count": 5,
   "metadata": {},
   "outputs": [],
   "source": [
    "classifier = load_model('model-75.h5')\n",
    "classifier.compile(optimizer='adam', loss='categorical_crossentropy', metrics=['accuracy'])"
   ]
  },
  {
   "cell_type": "code",
   "execution_count": 6,
   "metadata": {},
   "outputs": [
    {
     "name": "stdout",
     "output_type": "stream",
     "text": [
      "'The_Mona_Lisa': 0,\r\n",
      " 'airplane': 1,\r\n",
      " 'angel': 2,\r\n",
      " 'ant': 3,\r\n",
      " 'axe': 4,\r\n",
      " 'bicycle': 5,\r\n",
      " 'birthday_cake': 6,\r\n",
      " 'boomerang': 7,\r\n",
      " 'brain': 8,\r\n",
      " 'broccoli': 9,\r\n",
      " 'butterfly': 10,\r\n",
      " 'cactus': 11,\r\n",
      " 'calculator': 12,\r\n",
      " 'camel': 13,\r\n",
      " 'ceiling_fan': 14,\r\n",
      " 'compass': 15,\r\n",
      " 'cow': 16,\r\n",
      " 'cruise_ship': 17,\r\n",
      " 'cup': 18,\r\n",
      " 'dolphin': 19,\r\n",
      " 'dragon': 20,\r\n",
      " 'duck': 21,\r\n",
      " 'elephant': 22,\r\n",
      " 'eye': 23,\r\n",
      " 'face': 24,\r\n",
      " 'fish': 25,\r\n",
      " 'flip_flops': 26,\r\n",
      " 'frog': 27,\r\n",
      " 'giraffe': 28,\r\n",
      " 'grapes': 29,\r\n",
      " 'guitar': 30,\r\n",
      " 'hammer': 31,\r\n",
      " 'hand': 32,\r\n",
      " 'helicopter': 33,\r\n",
      " 'house': 34,\r\n",
      " 'ice_cream': 35,\r\n",
      " 'jacket': 36,\r\n",
      " 'jail': 37,\r\n",
      " 'kangaroo': 38,\r\n",
      " 'key': 39,\r\n",
      " 'leaf': 40,\r\n",
      " 'leg': 41,\r\n",
      " 'lightning': 42,\r\n",
      " 'lion': 43,\r\n",
      " 'lipstick': 44,\r\n",
      " 'mermaid': 45,\r\n",
      " 'mosquito': 46,\r\n",
      " 'mouse': 47,\r\n",
      " 'mushroom': 48,\r\n",
      " 'necklace': 49,\r\n",
      " 'octopus': 50,\r\n",
      " 'onion': 51,\r\n",
      " 'pants': 52,\r\n",
      " 'parrot': 53,\r\n",
      " 'piano': 54,\r\n",
      " 'pig': 55,\r\n",
      " 'pizza': 56,\r\n",
      " 'rabbit': 57,\r\n",
      " 'radio': 58,\r\n",
      " 'rain': 59,\r\n",
      " 'rainbow': 60,\r\n",
      " 'rollerskates': 61,\r\n",
      " 'sandwich': 62,\r\n",
      " 'scissors': 63,\r\n",
      " 'sea_turtle': 64,\r\n",
      " 'shark': 65,\r\n",
      " 'skull': 66,\r\n",
      " 'spider': 67,\r\n",
      " 'stereo': 68,\r\n",
      " 'strawberry': 69,\r\n",
      " 'swan': 70,\r\n",
      " 'sword': 71,\r\n",
      " 't_shirt': 72,\r\n",
      " 'teddy_bear': 73,\r\n",
      " 'television': 74,\r\n",
      " 'tiger': 75,\r\n",
      " 'toothbrush': 76,\r\n",
      " 'tree': 77,\r\n",
      " 'umbrella': 78,\r\n",
      " 'underwear': 79,\r\n",
      " 'vase': 80,\r\n",
      " 'washing_machine': 81,\r\n",
      " 'whale': 82,\r\n",
      " 'wheel': 83,\r\n",
      " 'windmill': 84,\r\n",
      " 'wine_glass': 85,\r\n",
      " 'zebra': 86,\r\n",
      " 'zigzag': 87\r\n"
     ]
    }
   ],
   "source": [
    "!cat class_indices.txt"
   ]
  },
  {
   "cell_type": "code",
   "execution_count": 79,
   "metadata": {},
   "outputs": [
    {
     "data": {
      "text/plain": [
       "<matplotlib.image.AxesImage at 0x7fcdcd6a77b8>"
      ]
     },
     "execution_count": 79,
     "metadata": {},
     "output_type": "execute_result"
    },
    {
     "data": {
      "image/png": "[encoded data removed]",
      "text/plain": [
       "<Figure size 432x288 with 1 Axes>"
      ]
     },
     "metadata": {
      "needs_background": "light"
     },
     "output_type": "display_data"
    }
   ],
   "source": [
    "# predicting images\n",
    "from keras.preprocessing import image\n",
    "import numpy as np\n",
    "\n",
    "img = image.load_img('try.bmp', target_size=(28, 28), color_mode='grayscale')\n",
    "img = image.img_to_array(img)"
   ]
  },
  {
   "cell_type": "code",
   "execution_count": 73,
   "metadata": {},
   "outputs": [
    {
     "data": {
      "text/plain": [
       "<matplotlib.image.AxesImage at 0x7fcdcd7548d0>"
      ]
     },
     "execution_count": 73,
     "metadata": {},
     "output_type": "execute_result"
    },
    {
     "data": {
      "image/png": "[encoded data removed]",
      "text/plain": [
       "<Figure size 432x288 with 1 Axes>"
      ]
     },
     "metadata": {
      "needs_background": "light"
     },
     "output_type": "display_data"
    }
   ],
   "source": [
    "# predicting images\n",
    "from keras.preprocessing import image\n",
    "import numpy as np\n",
    "\n",
    "img = image.load_img('wheel.png', target_size=(28, 28), color_mode='grayscale')\n",
    "img = image.img_to_array(img)\n",
    "\n",
    "import matplotlib.pyplot as plt\n",
    "%matplotlib inline\n",
    "\n",
    "plt.imshow(img.reshape(28,28), cmap='gray')"
   ]
  },
  {
   "cell_type": "code",
   "execution_count": 80,
   "metadata": {},
   "outputs": [
    {
     "name": "stdout",
     "output_type": "stream",
     "text": [
      "Predicted Class 83\n",
      "Probability:  0.95485073\n"
     ]
    }
   ],
   "source": [
    "img = np.expand_dims(img, axis=0)\n",
    "img = img/255.\n",
    "\n",
    "index = classifier.predict_classes(img)[0]\n",
    "print('Predicted Class', index)\n",
    "print('Probability: ', classifier.predict(img)[0][index])"
   ]
  },
  {
   "cell_type": "code",
   "execution_count": null,
   "metadata": {},
   "outputs": [],
   "source": []
  },
  {
   "cell_type": "code",
   "execution_count": null,
   "metadata": {},
   "outputs": [],
   "source": []
  }
 ],
 "metadata": {
  "kernelspec": {
   "display_name": "Python 3",
   "language": "python",
   "name": "python3"
  },
  "language_info": {
   "codemirror_mode": {
    "name": "ipython",
    "version": 3
   },
   "file_extension": ".py",
   "mimetype": "text/x-python",
   "name": "python",
   "nbconvert_exporter": "python",
   "pygments_lexer": "ipython3",
   "version": "3.7.3"
  }
 },
 "nbformat": 4,
 "nbformat_minor": 2
}
