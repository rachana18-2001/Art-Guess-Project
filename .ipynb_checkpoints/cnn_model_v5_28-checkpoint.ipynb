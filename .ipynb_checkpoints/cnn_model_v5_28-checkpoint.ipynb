{
 "cells": [
  {
   "cell_type": "markdown",
   "metadata": {
    "colab_type": "text",
    "id": "6Sagxv1DIQGw"
   },
   "source": [
    "# Training a Convolutional Neural Network to distinguish 88 different category of doodles - v5"
   ]
  },
  {
   "cell_type": "markdown",
   "metadata": {
    "colab_type": "text",
    "id": "nQG2Coj6IUOC"
   },
   "source": [
    "### Training on 5000 images from each category and testing on 1000 images from each category"
   ]
  },
  {
   "cell_type": "code",
   "execution_count": 0,
   "metadata": {
    "colab": {
     "base_uri": "https://localhost:8080/",
     "height": 119
    },
    "colab_type": "code",
    "id": "AqAgykLNILJ4",
    "outputId": "e6f5be3c-28cb-4d98-ef61-7cbf7a239a28"
   },
   "outputs": [
    {
     "name": "stdout",
     "output_type": "stream",
     "text": [
      "Cloning into 'dataset'...\n",
      "remote: Enumerating objects: 96996, done.\u001b[K\n",
      "remote: Total 96996 (delta 0), reused 0 (delta 0), pack-reused 96996\u001b[K\n",
      "Receiving objects: 100% (96996/96996), 206.97 MiB | 30.58 MiB/s, done.\n",
      "Resolving deltas: 100% (18/18), done.\n",
      "Checking out files: 100% (96888/96888), done.\n"
     ]
    }
   ],
   "source": [
    "! git clone https://github.com/jp-test-account/dataset.git"
   ]
  },
  {
   "cell_type": "code",
   "execution_count": 0,
   "metadata": {
    "colab": {
     "base_uri": "https://localhost:8080/",
     "height": 1530
    },
    "colab_type": "code",
    "id": "y-F8Re2ZIP0G",
    "outputId": "b063b031-6634-4536-d114-16d022ec371c"
   },
   "outputs": [
    {
     "name": "stdout",
     "output_type": "stream",
     "text": [
      "Pulling 5000 images from boomerang.npy... Done\n",
      "Pulling 5000 images from vase.npy... Done\n",
      "Pulling 5000 images from mouse.npy... Done\n",
      "Pulling 5000 images from cruise_ship.npy... Done\n",
      "Pulling 5000 images from cactus.npy... Done\n",
      "Pulling 5000 images from house.npy... Done\n",
      "Pulling 5000 images from mosquito.npy... Done\n",
      "Pulling 5000 images from skull.npy... Done\n",
      "Pulling 5000 images from umbrella.npy... Done\n",
      "Pulling 5000 images from hand.npy... Done\n",
      "Pulling 5000 images from kangaroo.npy... Done\n",
      "Pulling 5000 images from lipstick.npy... Done\n",
      "Pulling 5000 images from pizza.npy... Done\n",
      "Pulling 5000 images from compass.npy... Done\n",
      "Pulling 5000 images from dolphin.npy... Done\n",
      "Pulling 5000 images from octopus.npy... Done\n",
      "Pulling 5000 images from wine_glass.npy... Done\n",
      "Pulling 5000 images from leaf.npy... Done\n",
      "Pulling 5000 images from pig.npy... Done\n",
      "Pulling 5000 images from zigzag.npy... Done\n",
      "Pulling 5000 images from tiger.npy... Done\n",
      "Pulling 5000 images from strawberry.npy... Done\n",
      "Pulling 5000 images from parrot.npy... Done\n",
      "Pulling 5000 images from whale.npy... Done\n",
      "Pulling 5000 images from sea_turtle.npy... Done\n",
      "Pulling 5000 images from onion.npy... Done\n",
      "Pulling 5000 images from ceiling_fan.npy... Done\n",
      "Pulling 5000 images from television.npy... Done\n",
      "Pulling 5000 images from zebra.npy... Done\n",
      "Pulling 5000 images from cow.npy... Done\n",
      "Pulling 5000 images from underwear.npy... Done\n",
      "Pulling 5000 images from calculator.npy... Done\n",
      "Pulling 5000 images from camel.npy... Done\n",
      "Pulling 5000 images from giraffe.npy... Done\n",
      "Pulling 5000 images from axe.npy... Done\n",
      "Pulling 5000 images from jacket.npy... Done\n",
      "Pulling 5000 images from necklace.npy... Done\n",
      "Pulling 5000 images from wheel.npy... Done\n",
      "Pulling 5000 images from bicycle.npy... Done\n",
      "Pulling 5000 images from mushroom.npy... Done\n",
      "Pulling 5000 images from cup.npy... Done\n",
      "Pulling 5000 images from airplane.npy... Done\n",
      "Pulling 5000 images from stereo.npy... Done\n",
      "Pulling 5000 images from eye.npy... Done\n",
      "Pulling 5000 images from face.npy... Done\n",
      "Pulling 5000 images from tree.npy... Done\n",
      "Pulling 5000 images from washing_machine.npy... Done\n",
      "Pulling 5000 images from toothbrush.npy... Done\n",
      "Pulling 5000 images from radio.npy... Done\n",
      "Pulling 5000 images from rainbow.npy... Done\n",
      "Pulling 5000 images from ice_cream.npy... Done\n",
      "Pulling 5000 images from sword.npy... Done\n",
      "Pulling 5000 images from lion.npy... Done\n",
      "Pulling 5000 images from butterfly.npy... Done\n",
      "Pulling 5000 images from duck.npy... Done\n",
      "Pulling 5000 images from angel.npy... Done\n",
      "Pulling 5000 images from fish.npy... Done\n",
      "Pulling 5000 images from brain.npy... Done\n",
      "Pulling 5000 images from frog.npy... Done\n",
      "Pulling 5000 images from key.npy... Done\n",
      "Pulling 5000 images from piano.npy... Done\n",
      "Pulling 5000 images from rain.npy... Done\n",
      "Pulling 5000 images from guitar.npy... Done\n",
      "Pulling 5000 images from flip_flops.npy... Done\n",
      "Pulling 5000 images from t_shirt.npy... Done\n",
      "Pulling 5000 images from swan.npy... Done\n",
      "Pulling 5000 images from ant.npy... Done\n",
      "Pulling 5000 images from dragon.npy... Done\n",
      "Pulling 5000 images from spider.npy... Done\n",
      "Pulling 5000 images from elephant.npy... Done\n",
      "Pulling 5000 images from birthday_cake.npy... Done\n",
      "Pulling 5000 images from grapes.npy... Done\n",
      "Pulling 5000 images from mermaid.npy... Done\n",
      "Pulling 5000 images from broccoli.npy... Done\n",
      "Pulling 5000 images from teddy_bear.npy... Done\n",
      "Pulling 5000 images from The_Mona_Lisa.npy... Done\n",
      "Pulling 5000 images from scissors.npy... Done\n",
      "Pulling 5000 images from jail.npy... Done\n",
      "Pulling 5000 images from sandwich.npy... Done\n",
      "Pulling 5000 images from windmill.npy... Done\n",
      "Pulling 5000 images from rabbit.npy... Done\n",
      "Pulling 5000 images from helicopter.npy... Done\n",
      "Pulling 5000 images from pants.npy... Done\n",
      "Pulling 5000 images from lightning.npy... Done\n",
      "Pulling 5000 images from shark.npy... Done\n",
      "Pulling 5000 images from hammer.npy... Done\n",
      "Pulling 5000 images from rollerskates.npy... Done\n",
      "Pulling 5000 images from leg.npy... Done\n",
      "Extracted 88 categories in 'dataset-5000' folder.\n"
     ]
    }
   ],
   "source": [
    "! cd dataset && python npy-to-png.py dataset-5000 5000"
   ]
  },
  {
   "cell_type": "code",
   "execution_count": 0,
   "metadata": {
    "colab": {
     "base_uri": "https://localhost:8080/",
     "height": 51
    },
    "colab_type": "code",
    "id": "9ttJ4H4xIiCw",
    "outputId": "37738d5d-d564-4a26-d4b8-7d0db9b1f0fb"
   },
   "outputs": [
    {
     "name": "stdout",
     "output_type": "stream",
     "text": [
      "Found 440000 images belonging to 88 classes.\n",
      "Found 87999 images belonging to 88 classes.\n"
     ]
    }
   ],
   "source": [
    "from keras.models import Sequential\n",
    "from keras.layers import Convolution2D\n",
    "from keras.layers import MaxPooling2D\n",
    "from keras.layers import Flatten\n",
    "\n",
    "from keras.layers import Dense\n",
    "from keras.layers import Dropout\n",
    "\n",
    "import numpy as np\n",
    "\n",
    "\n",
    "# the cnn architecture defined as follows\n",
    "classifier = Sequential()\n",
    "\n",
    "# first conv layer\n",
    "classifier.add(Convolution2D(\n",
    "        input_shape=(28,28,1),\n",
    "        filters=16,\n",
    "        kernel_size=(3,3),\n",
    "        activation='relu',\n",
    "        kernel_initializer='uniform'))\n",
    "\n",
    "# max pooling layer\n",
    "classifier.add(MaxPooling2D(\n",
    "        pool_size=(2,2),\n",
    "        strides=(2,2)))\n",
    "\n",
    "# second conv layer\n",
    "classifier.add(Convolution2D(\n",
    "        filters=16,\n",
    "        kernel_size=(3,3),\n",
    "        activation='relu',\n",
    "        kernel_initializer='uniform'))\n",
    "\n",
    "# max pooling layer\n",
    "classifier.add(MaxPooling2D(\n",
    "        pool_size=(2,2),\n",
    "        strides=(2,2)))\n",
    "\n",
    "# flattening for feeding the data to a fully connected artificial neural network\n",
    "classifier.add(Flatten())\n",
    "\n",
    "# first hidden layer\n",
    "classifier.add(Dense(units=128, activation='relu', kernel_initializer='uniform'))\n",
    "classifier.add(Dropout(rate=0.4))\n",
    "\n",
    "# output layer\n",
    "classifier.add(Dense(units=88, activation='softmax', kernel_initializer='uniform'))\n",
    "\n",
    "# compiling the CNN\n",
    "classifier.compile(optimizer='adam', loss='categorical_crossentropy', metrics=['accuracy'])\n",
    "\n",
    "# well... after rescaling (dividing by 255), if pixel value is less than 0.2 then consider it a black pixel,\n",
    "# otherwise a white one\n",
    "def preprocessing(img):\n",
    "    img = img/255\n",
    "    return np.where(img < 0.2, 0, 1)\n",
    "\n",
    "# image preprocessing before feeding into the CNN\n",
    "from keras.preprocessing.image import ImageDataGenerator\n",
    "\n",
    "data_generator = ImageDataGenerator(preprocessing_function=preprocessing)\n",
    "\n",
    "# training data set\n",
    "train_set = data_generator.flow_from_directory(\n",
    "        'dataset/dataset-5000/',\n",
    "        batch_size=32,\n",
    "        target_size=(28,28), color_mode='grayscale')\n",
    "\n",
    "# testing/validation data set\n",
    "test_set = data_generator.flow_from_directory(\n",
    "        'dataset/dataset-1000/',\n",
    "        batch_size=4,\n",
    "        target_size=(28,28), color_mode='grayscale')\n"
   ]
  },
  {
   "cell_type": "markdown",
   "metadata": {
    "colab_type": "text",
    "id": "o7I0WokGMZQe"
   },
   "source": [
    "### Epoch 1 - 10"
   ]
  },
  {
   "cell_type": "code",
   "execution_count": 0,
   "metadata": {
    "colab": {
     "base_uri": "https://localhost:8080/",
     "height": 357
    },
    "colab_type": "code",
    "id": "CFP32IYFMYjz",
    "outputId": "c39f56c7-0ef9-4da3-e2dc-eebc03246152"
   },
   "outputs": [
    {
     "name": "stdout",
     "output_type": "stream",
     "text": [
      "Epoch 1/10\n",
      "13750/13750 [==============================] - 189s 14ms/step - loss: 2.4253 - acc: 0.3925 - val_loss: 1.6557 - val_acc: 0.5852\n",
      "Epoch 2/10\n",
      "13750/13750 [==============================] - 186s 14ms/step - loss: 1.9858 - acc: 0.4946 - val_loss: 1.5130 - val_acc: 0.6185\n",
      "Epoch 3/10\n",
      "13750/13750 [==============================] - 185s 13ms/step - loss: 1.8944 - acc: 0.5164 - val_loss: 1.4620 - val_acc: 0.6325\n",
      "Epoch 4/10\n",
      "13750/13750 [==============================] - 184s 13ms/step - loss: 1.8476 - acc: 0.5280 - val_loss: 1.4373 - val_acc: 0.6333\n",
      "Epoch 5/10\n",
      "13750/13750 [==============================] - 184s 13ms/step - loss: 1.8125 - acc: 0.5367 - val_loss: 1.4144 - val_acc: 0.6409\n",
      "Epoch 6/10\n",
      "13750/13750 [==============================] - 184s 13ms/step - loss: 1.7945 - acc: 0.5412 - val_loss: 1.3979 - val_acc: 0.6468\n",
      "Epoch 7/10\n",
      "13750/13750 [==============================] - 184s 13ms/step - loss: 1.7818 - acc: 0.5440 - val_loss: 1.4143 - val_acc: 0.6443\n",
      "Epoch 8/10\n",
      "13750/13750 [==============================] - 184s 13ms/step - loss: 1.7696 - acc: 0.5474 - val_loss: 1.3830 - val_acc: 0.6517\n",
      "Epoch 9/10\n",
      "13750/13750 [==============================] - 186s 14ms/step - loss: 1.7602 - acc: 0.5496 - val_loss: 1.3624 - val_acc: 0.6534\n",
      "Epoch 10/10\n",
      "13750/13750 [==============================] - 188s 14ms/step - loss: 1.7523 - acc: 0.5519 - val_loss: 1.3817 - val_acc: 0.6530\n"
     ]
    }
   ],
   "source": [
    "# finally fitting the data and training the CNN\n",
    "history = classifier.fit_generator(\n",
    "        epochs=10,\n",
    "        initial_epoch=0,\n",
    "        generator=train_set,\n",
    "        steps_per_epoch=13750,\n",
    "        validation_data=test_set,\n",
    "        validation_steps=22250,\n",
    "        use_multiprocessing=True)"
   ]
  },
  {
   "cell_type": "code",
   "execution_count": 0,
   "metadata": {
    "colab": {},
    "colab_type": "code",
    "id": "8ufokSgG49OJ"
   },
   "outputs": [],
   "source": [
    "classifier.save('model-v5-28-6530.h5')"
   ]
  },
  {
   "cell_type": "code",
   "execution_count": 0,
   "metadata": {
    "colab": {
     "base_uri": "https://localhost:8080/",
     "height": 102
    },
    "colab_type": "code",
    "id": "vGdJUgdB5Ygt",
    "outputId": "379ab30f-872c-471d-d827-fca585c3a17a"
   },
   "outputs": [
    {
     "name": "stdout",
     "output_type": "stream",
     "text": [
      "total 1MB\n",
      "drwxr-xr-x 7 root root 1MB Jun 13 05:36 dataset\n",
      "drwx------ 3 root root 1MB Jun 13 08:15 drive\n",
      "-rw-r--r-- 1 root root 1MB Jun 13 09:53 model-v5-28-6530.h5\n",
      "drwxr-xr-x 1 root root 1MB May 31 16:17 sample_data\n"
     ]
    }
   ],
   "source": [
    "! ls -l --block-size=MB"
   ]
  },
  {
   "cell_type": "code",
   "execution_count": 0,
   "metadata": {
    "colab": {
     "base_uri": "https://localhost:8080/",
     "height": 122
    },
    "colab_type": "code",
    "id": "ubAbQ6Lz5dU-",
    "outputId": "eb1c1956-6015-4955-aeb9-b7a7b851a997"
   },
   "outputs": [
    {
     "name": "stdout",
     "output_type": "stream",
     "text": [
      "Go to this URL in a browser: https://accounts.google.com/o/oauth2/auth?client_id=947318989803-6bn6qk8qdgf4n4g3pfee6491hc0brc4i.apps.googleusercontent.com&redirect_uri=urn%3Aietf%3Awg%3Aoauth%3A2.0%3Aoob&scope=email%20https%3A%2F%2Fwww.googleapis.com%2Fauth%2Fdocs.test%20https%3A%2F%2Fwww.googleapis.com%2Fauth%2Fdrive%20https%3A%2F%2Fwww.googleapis.com%2Fauth%2Fdrive.photos.readonly%20https%3A%2F%2Fwww.googleapis.com%2Fauth%2Fpeopleapi.readonly&response_type=code\n",
      "\n",
      "Enter your authorization code:\n",
      "··········\n",
      "Mounted at /content/drive\n"
     ]
    }
   ],
   "source": [
    "from google.colab import drive\n",
    "drive.mount('/content/drive')"
   ]
  },
  {
   "cell_type": "code",
   "execution_count": 0,
   "metadata": {
    "colab": {},
    "colab_type": "code",
    "id": "NknisGr95kK2"
   },
   "outputs": [],
   "source": [
    "! cp model-v5-28-6530.h5 drive/My\\ Drive"
   ]
  },
  {
   "cell_type": "code",
   "execution_count": 0,
   "metadata": {
    "colab": {
     "base_uri": "https://localhost:8080/",
     "height": 295
    },
    "colab_type": "code",
    "id": "HkrjCc9uQrdT",
    "outputId": "49d44e6b-007e-4592-b7bd-ac03192707e9"
   },
   "outputs": [
    {
     "data": {
      "image/png": "[encoded data removed]",
      "text/plain": [
       "<Figure size 432x288 with 1 Axes>"
      ]
     },
     "metadata": {
      "tags": []
     },
     "output_type": "display_data"
    }
   ],
   "source": [
    "import matplotlib.pyplot as plt\n",
    "\n",
    "# summarize history for accuracy\n",
    "plt.plot(history.history['acc'])\n",
    "plt.plot(history.history['val_acc'])\n",
    "plt.title('model accuracy')\n",
    "plt.ylabel('accuracy')\n",
    "plt.xlabel('epoch')\n",
    "plt.legend(['train', 'test'], loc='upper left')\n",
    "plt.show()"
   ]
  },
  {
   "cell_type": "code",
   "execution_count": 0,
   "metadata": {
    "colab": {
     "base_uri": "https://localhost:8080/",
     "height": 295
    },
    "colab_type": "code",
    "id": "2muKOBv5Q6Ok",
    "outputId": "91ee1d0b-0e9f-407d-ff7f-9c1185621de6"
   },
   "outputs": [
    {
     "data": {
      "image/png": "[encoded data removed]",
      "text/plain": [
       "<Figure size 432x288 with 1 Axes>"
      ]
     },
     "metadata": {
      "tags": []
     },
     "output_type": "display_data"
    }
   ],
   "source": [
    "# summarize history for loss\n",
    "plt.plot(history.history['loss'])\n",
    "plt.plot(history.history['val_loss'])\n",
    "plt.title('model loss')\n",
    "plt.ylabel('loss')\n",
    "plt.xlabel('epoch')\n",
    "plt.legend(['train', 'test'], loc='upper left')\n",
    "plt.show()"
   ]
  },
  {
   "cell_type": "markdown",
   "metadata": {
    "colab_type": "text",
    "id": "v8dfkMVIQoHT"
   },
   "source": [
    "### Epoch 10 - 20"
   ]
  },
  {
   "cell_type": "code",
   "execution_count": 0,
   "metadata": {
    "colab": {
     "base_uri": "https://localhost:8080/",
     "height": 357
    },
    "colab_type": "code",
    "id": "WEMSOUae6A7w",
    "outputId": "3d4201b1-7a4f-4370-f96a-1faebfa14b38"
   },
   "outputs": [
    {
     "name": "stdout",
     "output_type": "stream",
     "text": [
      "Epoch 11/20\n",
      "13750/13750 [==============================] - 191s 14ms/step - loss: 1.7478 - acc: 0.5533 - val_loss: 1.3647 - val_acc: 0.6521\n",
      "Epoch 12/20\n",
      "13750/13750 [==============================] - 191s 14ms/step - loss: 1.7420 - acc: 0.5539 - val_loss: 1.3440 - val_acc: 0.6577\n",
      "Epoch 13/20\n",
      "13750/13750 [==============================] - 190s 14ms/step - loss: 1.7383 - acc: 0.5552 - val_loss: 1.3433 - val_acc: 0.6583\n",
      "Epoch 14/20\n",
      "13750/13750 [==============================] - 191s 14ms/step - loss: 1.7366 - acc: 0.5560 - val_loss: 1.3492 - val_acc: 0.6574\n",
      "Epoch 15/20\n",
      "13750/13750 [==============================] - 191s 14ms/step - loss: 1.7349 - acc: 0.5553 - val_loss: 1.3544 - val_acc: 0.6547\n",
      "Epoch 16/20\n",
      "13750/13750 [==============================] - 190s 14ms/step - loss: 1.7329 - acc: 0.5569 - val_loss: 1.3471 - val_acc: 0.6574\n",
      "Epoch 17/20\n",
      "13750/13750 [==============================] - 191s 14ms/step - loss: 1.7311 - acc: 0.5581 - val_loss: 1.3804 - val_acc: 0.6514\n",
      "Epoch 18/20\n",
      "13750/13750 [==============================] - 191s 14ms/step - loss: 1.7267 - acc: 0.5581 - val_loss: 1.3392 - val_acc: 0.6578\n",
      "Epoch 19/20\n",
      "13750/13750 [==============================] - 191s 14ms/step - loss: 1.7261 - acc: 0.5581 - val_loss: 1.3496 - val_acc: 0.6578\n",
      "Epoch 20/20\n",
      "13750/13750 [==============================] - 191s 14ms/step - loss: 1.7228 - acc: 0.5594 - val_loss: 1.3634 - val_acc: 0.6551\n"
     ]
    }
   ],
   "source": [
    "history = classifier.fit_generator(\n",
    "        epochs=20,\n",
    "        initial_epoch=10,\n",
    "        generator=train_set,\n",
    "        steps_per_epoch=13750,\n",
    "        validation_data=test_set,\n",
    "        validation_steps=22250,\n",
    "        use_multiprocessing=True)"
   ]
  },
  {
   "cell_type": "code",
   "execution_count": 0,
   "metadata": {
    "colab": {
     "base_uri": "https://localhost:8080/",
     "height": 295
    },
    "colab_type": "code",
    "id": "Fj7t8kx3YWP7",
    "outputId": "09329609-be9e-4394-ec39-9ff1cf1fdcfd"
   },
   "outputs": [
    {
     "data": {
      "image/png": "[encoded data removed]",
      "text/plain": [
       "<Figure size 432x288 with 1 Axes>"
      ]
     },
     "metadata": {
      "tags": []
     },
     "output_type": "display_data"
    }
   ],
   "source": [
    "import matplotlib.pyplot as plt\n",
    "\n",
    "# summarize history for accuracy\n",
    "plt.plot(history.history['acc'])\n",
    "plt.plot(history.history['val_acc'])\n",
    "plt.title('model accuracy')\n",
    "plt.ylabel('accuracy')\n",
    "plt.xlabel('epoch')\n",
    "plt.legend(['train', 'test'], loc='upper left')\n",
    "plt.show()"
   ]
  },
  {
   "cell_type": "code",
   "execution_count": 0,
   "metadata": {
    "colab": {
     "base_uri": "https://localhost:8080/",
     "height": 295
    },
    "colab_type": "code",
    "id": "f9DSQDVQYWx0",
    "outputId": "7eaeb115-49aa-42e2-9716-d69f9da93370"
   },
   "outputs": [
    {
     "data": {
      "image/png": "[encoded data removed]",
      "text/plain": [
       "<Figure size 432x288 with 1 Axes>"
      ]
     },
     "metadata": {
      "tags": []
     },
     "output_type": "display_data"
    }
   ],
   "source": [
    "# summarize history for loss\n",
    "plt.plot(history.history['loss'])\n",
    "plt.plot(history.history['val_loss'])\n",
    "plt.title('model loss')\n",
    "plt.ylabel('loss')\n",
    "plt.xlabel('epoch')\n",
    "plt.legend(['train', 'test'], loc='upper left')\n",
    "plt.show()"
   ]
  },
  {
   "cell_type": "markdown",
   "metadata": {
    "colab_type": "text",
    "id": "0umTx2GFYlG8"
   },
   "source": [
    "# Training entire model for 15 epochs with threshold = 0.3"
   ]
  },
  {
   "cell_type": "code",
   "execution_count": 0,
   "metadata": {
    "colab": {
     "base_uri": "https://localhost:8080/",
     "height": 51
    },
    "colab_type": "code",
    "id": "0fJLeURyYt6H",
    "outputId": "d062d264-7236-498d-e550-403790b6f466"
   },
   "outputs": [
    {
     "name": "stdout",
     "output_type": "stream",
     "text": [
      "Found 440000 images belonging to 88 classes.\n",
      "Found 87999 images belonging to 88 classes.\n"
     ]
    }
   ],
   "source": [
    "from keras.models import Sequential\n",
    "from keras.layers import Convolution2D\n",
    "from keras.layers import MaxPooling2D\n",
    "from keras.layers import Flatten\n",
    "\n",
    "from keras.layers import Dense\n",
    "from keras.layers import Dropout\n",
    "\n",
    "import numpy as np\n",
    "\n",
    "\n",
    "# the cnn architecture defined as follows\n",
    "classifier = Sequential()\n",
    "\n",
    "# first conv layer\n",
    "classifier.add(Convolution2D(\n",
    "        input_shape=(28,28,1),\n",
    "        filters=16,\n",
    "        kernel_size=(3,3),\n",
    "        activation='relu',\n",
    "        kernel_initializer='uniform'))\n",
    "\n",
    "# max pooling layer\n",
    "classifier.add(MaxPooling2D(\n",
    "        pool_size=(2,2),\n",
    "        strides=(2,2)))\n",
    "\n",
    "# second conv layer\n",
    "classifier.add(Convolution2D(\n",
    "        filters=16,\n",
    "        kernel_size=(3,3),\n",
    "        activation='relu',\n",
    "        kernel_initializer='uniform'))\n",
    "\n",
    "# max pooling layer\n",
    "classifier.add(MaxPooling2D(\n",
    "        pool_size=(2,2),\n",
    "        strides=(2,2)))\n",
    "\n",
    "# flattening for feeding the data to a fully connected artificial neural network\n",
    "classifier.add(Flatten())\n",
    "\n",
    "# first hidden layer\n",
    "classifier.add(Dense(units=128, activation='relu', kernel_initializer='uniform'))\n",
    "classifier.add(Dropout(rate=0.4))\n",
    "\n",
    "# output layer\n",
    "classifier.add(Dense(units=88, activation='softmax', kernel_initializer='uniform'))\n",
    "\n",
    "# compiling the CNN\n",
    "classifier.compile(optimizer='adam', loss='categorical_crossentropy', metrics=['accuracy'])\n",
    "\n",
    "# well... after rescaling (dividing by 255), if pixel value is less than 0.3 then consider it a black pixel,\n",
    "# otherwise a white one\n",
    "def preprocessing(img):\n",
    "    img = img/255\n",
    "    return np.where(img < 0.3, 0, 1)\n",
    "\n",
    "# image preprocessing before feeding into the CNN\n",
    "from keras.preprocessing.image import ImageDataGenerator\n",
    "\n",
    "data_generator = ImageDataGenerator(preprocessing_function=preprocessing)\n",
    "\n",
    "# training data set\n",
    "train_set = data_generator.flow_from_directory(\n",
    "        'dataset/dataset-5000/',\n",
    "        batch_size=32,\n",
    "        target_size=(28,28), color_mode='grayscale')\n",
    "\n",
    "# testing/validation data set\n",
    "test_set = data_generator.flow_from_directory(\n",
    "        'dataset/dataset-1000/',\n",
    "        batch_size=4,\n",
    "        target_size=(28,28), color_mode='grayscale')\n"
   ]
  },
  {
   "cell_type": "markdown",
   "metadata": {
    "colab_type": "text",
    "id": "Ai5dzIPoZA-b"
   },
   "source": [
    "### Epoch 1 - 15"
   ]
  },
  {
   "cell_type": "code",
   "execution_count": 0,
   "metadata": {
    "colab": {
     "base_uri": "https://localhost:8080/",
     "height": 527
    },
    "colab_type": "code",
    "id": "aY-5DdHIY-ns",
    "outputId": "ecf8a90b-ea94-4977-aa8a-10153b92202c"
   },
   "outputs": [
    {
     "name": "stdout",
     "output_type": "stream",
     "text": [
      "Epoch 1/15\n",
      "13750/13750 [==============================] - 191s 14ms/step - loss: 2.4472 - acc: 0.3874 - val_loss: 1.6713 - val_acc: 0.5850\n",
      "Epoch 2/15\n",
      "13750/13750 [==============================] - 189s 14ms/step - loss: 2.0274 - acc: 0.4852 - val_loss: 1.5336 - val_acc: 0.6144\n",
      "Epoch 3/15\n",
      "13750/13750 [==============================] - 188s 14ms/step - loss: 1.9318 - acc: 0.5083 - val_loss: 1.4821 - val_acc: 0.6290\n",
      "Epoch 4/15\n",
      "13750/13750 [==============================] - 189s 14ms/step - loss: 1.8802 - acc: 0.5213 - val_loss: 1.4643 - val_acc: 0.6337\n",
      "Epoch 5/15\n",
      "13750/13750 [==============================] - 189s 14ms/step - loss: 1.8275 - acc: 0.5345 - val_loss: 1.4099 - val_acc: 0.6430\n",
      "Epoch 6/15\n",
      "13750/13750 [==============================] - 190s 14ms/step - loss: 1.8044 - acc: 0.5413 - val_loss: 1.4099 - val_acc: 0.6450\n",
      "Epoch 7/15\n",
      "13750/13750 [==============================] - 190s 14ms/step - loss: 1.7802 - acc: 0.5458 - val_loss: 1.3943 - val_acc: 0.6514\n",
      "Epoch 8/15\n",
      "13750/13750 [==============================] - 189s 14ms/step - loss: 1.7642 - acc: 0.5516 - val_loss: 1.3886 - val_acc: 0.6505\n",
      "Epoch 9/15\n",
      "13750/13750 [==============================] - 189s 14ms/step - loss: 1.7505 - acc: 0.5538 - val_loss: 1.3511 - val_acc: 0.6561\n",
      "Epoch 10/15\n",
      "13750/13750 [==============================] - 189s 14ms/step - loss: 1.7354 - acc: 0.5580 - val_loss: 1.3474 - val_acc: 0.6633\n",
      "Epoch 11/15\n",
      "13750/13750 [==============================] - 189s 14ms/step - loss: 1.7171 - acc: 0.5626 - val_loss: 1.3253 - val_acc: 0.6635\n",
      "Epoch 12/15\n",
      "13750/13750 [==============================] - 189s 14ms/step - loss: 1.7087 - acc: 0.5642 - val_loss: 1.3283 - val_acc: 0.6644\n",
      "Epoch 13/15\n",
      "13750/13750 [==============================] - 189s 14ms/step - loss: 1.6963 - acc: 0.5674 - val_loss: 1.3080 - val_acc: 0.6688\n",
      "Epoch 14/15\n",
      "13750/13750 [==============================] - 190s 14ms/step - loss: 1.6904 - acc: 0.5696 - val_loss: 1.3142 - val_acc: 0.6716\n",
      "Epoch 15/15\n",
      "13750/13750 [==============================] - 189s 14ms/step - loss: 1.6823 - acc: 0.5717 - val_loss: 1.3035 - val_acc: 0.6692\n"
     ]
    }
   ],
   "source": [
    "# finally fitting the data and training the CNN\n",
    "history = classifier.fit_generator(\n",
    "        epochs=15,\n",
    "        initial_epoch=0,\n",
    "        generator=train_set,\n",
    "        steps_per_epoch=13750,\n",
    "        validation_data=test_set,\n",
    "        validation_steps=22250,\n",
    "        use_multiprocessing=True)"
   ]
  },
  {
   "cell_type": "code",
   "execution_count": 0,
   "metadata": {
    "colab": {
     "base_uri": "https://localhost:8080/",
     "height": 295
    },
    "colab_type": "code",
    "id": "_I5P5WBlksOK",
    "outputId": "83fdd76b-97b0-4442-b691-650eb9b189ca"
   },
   "outputs": [
    {
     "data": {
      "image/png": "[encoded data removed]",
      "text/plain": [
       "<Figure size 432x288 with 1 Axes>"
      ]
     },
     "metadata": {
      "tags": []
     },
     "output_type": "display_data"
    }
   ],
   "source": [
    "import matplotlib.pyplot as plt\n",
    "\n",
    "# summarize history for accuracy\n",
    "plt.plot(history.history['acc'])\n",
    "plt.plot(history.history['val_acc'])\n",
    "plt.title('model accuracy')\n",
    "plt.ylabel('accuracy')\n",
    "plt.xlabel('epoch')\n",
    "plt.legend(['train', 'test'], loc='upper left')\n",
    "plt.show()"
   ]
  },
  {
   "cell_type": "code",
   "execution_count": 0,
   "metadata": {
    "colab": {
     "base_uri": "https://localhost:8080/",
     "height": 295
    },
    "colab_type": "code",
    "id": "_VQR7OUMkvkh",
    "outputId": "9558b374-3983-4012-b5eb-6ac4cda38037"
   },
   "outputs": [
    {
     "data": {
      "image/png": "[encoded data removed]",
      "text/plain": [
       "<Figure size 432x288 with 1 Axes>"
      ]
     },
     "metadata": {
      "tags": []
     },
     "output_type": "display_data"
    }
   ],
   "source": [
    "# summarize history for loss\n",
    "plt.plot(history.history['loss'])\n",
    "plt.plot(history.history['val_loss'])\n",
    "plt.title('model loss')\n",
    "plt.ylabel('loss')\n",
    "plt.xlabel('epoch')\n",
    "plt.legend(['train', 'test'], loc='upper left')\n",
    "plt.show()"
   ]
  },
  {
   "cell_type": "code",
   "execution_count": 0,
   "metadata": {
    "colab": {},
    "colab_type": "code",
    "id": "94Di_swGksoa"
   },
   "outputs": [],
   "source": [
    "classifier.save('model-v5-28-6692.h5')"
   ]
  },
  {
   "cell_type": "code",
   "execution_count": 0,
   "metadata": {
    "colab": {
     "base_uri": "https://localhost:8080/",
     "height": 119
    },
    "colab_type": "code",
    "id": "TEgV84VzlIeg",
    "outputId": "bee14912-c2df-45d9-d32c-1295e108e517"
   },
   "outputs": [
    {
     "name": "stdout",
     "output_type": "stream",
     "text": [
      "total 2MB\n",
      "drwxr-xr-x 7 root root 1MB Jun 13 05:36 dataset\n",
      "drwx------ 3 root root 1MB Jun 13 08:15 drive\n",
      "-rw-r--r-- 1 root root 1MB Jun 13 09:53 model-v5-28-6530.h5\n",
      "-rw-r--r-- 1 root root 1MB Jun 13 11:24 model-v5-28-6692.h5\n",
      "drwxr-xr-x 1 root root 1MB May 31 16:17 sample_data\n"
     ]
    }
   ],
   "source": [
    "! ls -l --block-size=MB"
   ]
  },
  {
   "cell_type": "code",
   "execution_count": 0,
   "metadata": {
    "colab": {},
    "colab_type": "code",
    "id": "YJzqJkB2lK_s"
   },
   "outputs": [],
   "source": [
    "! cp model-v5-28-6530.h5 drive/My\\ Drive"
   ]
  },
  {
   "cell_type": "markdown",
   "metadata": {
    "colab_type": "text",
    "id": "3c8DuV9WreZY"
   },
   "source": [
    "### Epoch 15 - 25"
   ]
  },
  {
   "cell_type": "code",
   "execution_count": 0,
   "metadata": {
    "colab": {
     "base_uri": "https://localhost:8080/",
     "height": 357
    },
    "colab_type": "code",
    "id": "K8eyMNsxrdsR",
    "outputId": "f14c784c-3c2a-4630-a4ec-5296b962bba5"
   },
   "outputs": [
    {
     "name": "stdout",
     "output_type": "stream",
     "text": [
      "Epoch 16/25\n",
      "13750/13750 [==============================] - 189s 14ms/step - loss: 1.6826 - acc: 0.5715 - val_loss: 1.2954 - val_acc: 0.6724\n",
      "Epoch 17/25\n",
      "13750/13750 [==============================] - 189s 14ms/step - loss: 1.6800 - acc: 0.5720 - val_loss: 1.3026 - val_acc: 0.6695\n",
      "Epoch 18/25\n",
      "13750/13750 [==============================] - 189s 14ms/step - loss: 1.6749 - acc: 0.5731 - val_loss: 1.2951 - val_acc: 0.6700\n",
      "Epoch 19/25\n",
      "13750/13750 [==============================] - 189s 14ms/step - loss: 1.6732 - acc: 0.5731 - val_loss: 1.2989 - val_acc: 0.6728\n",
      "Epoch 20/25\n",
      "13750/13750 [==============================] - 189s 14ms/step - loss: 1.6686 - acc: 0.5746 - val_loss: 1.2801 - val_acc: 0.6752\n",
      "Epoch 21/25\n",
      "13750/13750 [==============================] - 189s 14ms/step - loss: 1.6702 - acc: 0.5744 - val_loss: 1.2905 - val_acc: 0.6727\n",
      "Epoch 22/25\n",
      "13750/13750 [==============================] - 189s 14ms/step - loss: 1.6699 - acc: 0.5755 - val_loss: 1.2937 - val_acc: 0.6750\n",
      "Epoch 23/25\n",
      "13750/13750 [==============================] - 188s 14ms/step - loss: 1.6650 - acc: 0.5749 - val_loss: 1.2998 - val_acc: 0.6722\n",
      "Epoch 24/25\n",
      "13750/13750 [==============================] - 189s 14ms/step - loss: 1.6643 - acc: 0.5753 - val_loss: 1.2778 - val_acc: 0.6759\n",
      "Epoch 25/25\n",
      "13750/13750 [==============================] - 188s 14ms/step - loss: 1.6619 - acc: 0.5756 - val_loss: 1.2853 - val_acc: 0.6759\n"
     ]
    }
   ],
   "source": [
    "history = classifier.fit_generator(\n",
    "        epochs=25,\n",
    "        initial_epoch=15,\n",
    "        generator=train_set,\n",
    "        steps_per_epoch=13750,\n",
    "        validation_data=test_set,\n",
    "        validation_steps=22250,\n",
    "        use_multiprocessing=True)"
   ]
  },
  {
   "cell_type": "code",
   "execution_count": 0,
   "metadata": {
    "colab": {},
    "colab_type": "code",
    "id": "uq1acAnm1zud"
   },
   "outputs": [],
   "source": [
    "classifier.save('model-v5-28-6759.h5')\n",
    "! cp model-v5-28-6759.h5 drive/My\\ Drive"
   ]
  },
  {
   "cell_type": "markdown",
   "metadata": {
    "colab_type": "text",
    "id": "v8zdqjn52DlU"
   },
   "source": [
    "### Epoch 25 - 50"
   ]
  },
  {
   "cell_type": "code",
   "execution_count": 35,
   "metadata": {
    "colab": {
     "base_uri": "https://localhost:8080/",
     "height": 819
    },
    "colab_type": "code",
    "id": "9V2qP1qg2DNl",
    "outputId": "d866e47d-a6f2-41df-fa9e-bc7b57e114c5"
   },
   "outputs": [
    {
     "name": "stdout",
     "output_type": "stream",
     "text": [
      "Epoch 26/50\n",
      "13750/13750 [==============================] - 190s 14ms/step - loss: 1.6615 - acc: 0.5763 - val_loss: 1.2868 - val_acc: 0.6758\n",
      "Epoch 27/50\n",
      "13750/13750 [==============================] - 190s 14ms/step - loss: 1.6617 - acc: 0.5763 - val_loss: 1.2832 - val_acc: 0.6759\n",
      "Epoch 28/50\n",
      "13750/13750 [==============================] - 191s 14ms/step - loss: 1.6601 - acc: 0.5761 - val_loss: 1.2952 - val_acc: 0.6735\n",
      "Epoch 29/50\n",
      "13750/13750 [==============================] - 191s 14ms/step - loss: 1.6601 - acc: 0.5768 - val_loss: 1.2829 - val_acc: 0.6749\n",
      "Epoch 30/50\n",
      "13750/13750 [==============================] - 193s 14ms/step - loss: 1.6606 - acc: 0.5764 - val_loss: 1.2875 - val_acc: 0.6741\n",
      "Epoch 31/50\n",
      "13750/13750 [==============================] - 193s 14ms/step - loss: 1.6583 - acc: 0.5779 - val_loss: 1.2823 - val_acc: 0.6763\n",
      "Epoch 32/50\n",
      "13750/13750 [==============================] - 192s 14ms/step - loss: 1.6577 - acc: 0.5774 - val_loss: 1.2943 - val_acc: 0.6757\n",
      "Epoch 33/50\n",
      "13750/13750 [==============================] - 191s 14ms/step - loss: 1.6590 - acc: 0.5772 - val_loss: 1.2768 - val_acc: 0.6753\n",
      "Epoch 34/50\n",
      "13750/13750 [==============================] - 192s 14ms/step - loss: 1.6574 - acc: 0.5767 - val_loss: 1.2674 - val_acc: 0.6782\n",
      "Epoch 35/50\n",
      "13750/13750 [==============================] - 192s 14ms/step - loss: 1.6576 - acc: 0.5769 - val_loss: 1.2834 - val_acc: 0.6771\n",
      "Epoch 36/50\n",
      "13750/13750 [==============================] - 194s 14ms/step - loss: 1.6584 - acc: 0.5771 - val_loss: 1.2707 - val_acc: 0.6777\n",
      "Epoch 37/50\n",
      "13750/13750 [==============================] - 194s 14ms/step - loss: 1.6557 - acc: 0.5779 - val_loss: 1.2719 - val_acc: 0.6773\n",
      "Epoch 38/50\n",
      "13750/13750 [==============================] - 193s 14ms/step - loss: 1.6535 - acc: 0.5772 - val_loss: 1.2753 - val_acc: 0.6778\n",
      "Epoch 39/50\n",
      "13750/13750 [==============================] - 194s 14ms/step - loss: 1.6537 - acc: 0.5781 - val_loss: 1.2691 - val_acc: 0.6800\n",
      "Epoch 40/50\n",
      "13750/13750 [==============================] - 194s 14ms/step - loss: 1.6549 - acc: 0.5784 - val_loss: 1.2838 - val_acc: 0.6756\n",
      "Epoch 41/50\n",
      "13750/13750 [==============================] - 194s 14ms/step - loss: 1.6527 - acc: 0.5785 - val_loss: 1.2737 - val_acc: 0.6786\n",
      "Epoch 42/50\n",
      "13750/13750 [==============================] - 191s 14ms/step - loss: 1.6531 - acc: 0.5783 - val_loss: 1.2796 - val_acc: 0.6771\n",
      "Epoch 43/50\n",
      "13750/13750 [==============================] - 191s 14ms/step - loss: 1.6529 - acc: 0.5786 - val_loss: 1.2592 - val_acc: 0.6796\n",
      "Epoch 44/50\n",
      "13750/13750 [==============================] - 191s 14ms/step - loss: 1.6510 - acc: 0.5786 - val_loss: 1.2720 - val_acc: 0.6785\n",
      "Epoch 45/50\n",
      "13750/13750 [==============================] - 191s 14ms/step - loss: 1.6528 - acc: 0.5779 - val_loss: 1.2935 - val_acc: 0.6766\n",
      "Epoch 46/50\n",
      "13750/13750 [==============================] - 187s 14ms/step - loss: 1.6525 - acc: 0.5777 - val_loss: 1.2710 - val_acc: 0.6821\n",
      "Epoch 47/50\n",
      "13750/13750 [==============================] - 187s 14ms/step - loss: 1.6492 - acc: 0.5789 - val_loss: 1.2860 - val_acc: 0.6774\n",
      "Epoch 48/50\n",
      " 7331/13750 [==============>...............] - ETA: 1:03 - loss: 1.6484 - acc: 0.5796Buffered data was truncated after reaching the output size limit."
     ]
    }
   ],
   "source": [
    "history = classifier.fit_generator(\n",
    "        epochs=50,\n",
    "        initial_epoch=25,\n",
    "        generator=train_set,\n",
    "        steps_per_epoch=13750,\n",
    "        validation_data=test_set,\n",
    "        validation_steps=22250,\n",
    "        use_multiprocessing=True)"
   ]
  },
  {
   "cell_type": "code",
   "execution_count": 36,
   "metadata": {
    "colab": {
     "base_uri": "https://localhost:8080/",
     "height": 295
    },
    "colab_type": "code",
    "id": "2E_4fzf9UDE3",
    "outputId": "52be593e-9380-4673-a9de-729eb3461151"
   },
   "outputs": [
    {
     "data": {
      "image/png": "[encoded data removed]",
      "text/plain": [
       "<Figure size 432x288 with 1 Axes>"
      ]
     },
     "metadata": {
      "tags": []
     },
     "output_type": "display_data"
    }
   ],
   "source": [
    "# summarize history for accuracy\n",
    "plt.plot(history.history['acc'])\n",
    "plt.plot(history.history['val_acc'])\n",
    "plt.title('model accuracy')\n",
    "plt.ylabel('accuracy')\n",
    "plt.xlabel('epoch')\n",
    "plt.legend(['train', 'test'], loc='upper left')\n",
    "plt.show()"
   ]
  },
  {
   "cell_type": "markdown",
   "metadata": {
    "colab_type": "text",
    "id": "LgsZ-VYjUYor"
   },
   "source": [
    "### Epoch 50 - 60"
   ]
  },
  {
   "cell_type": "code",
   "execution_count": 37,
   "metadata": {
    "colab": {
     "base_uri": "https://localhost:8080/",
     "height": 357
    },
    "colab_type": "code",
    "id": "y3pQcoNwUEIO",
    "outputId": "acf9cde5-cfdc-43bc-d839-147463799bac"
   },
   "outputs": [
    {
     "name": "stdout",
     "output_type": "stream",
     "text": [
      "Epoch 51/60\n",
      "13750/13750 [==============================] - 193s 14ms/step - loss: 1.6499 - acc: 0.5786 - val_loss: 1.2674 - val_acc: 0.6804\n",
      "Epoch 52/60\n",
      "13750/13750 [==============================] - 194s 14ms/step - loss: 1.6519 - acc: 0.5786 - val_loss: 1.2796 - val_acc: 0.6742\n",
      "Epoch 53/60\n",
      "13750/13750 [==============================] - 195s 14ms/step - loss: 1.6508 - acc: 0.5774 - val_loss: 1.2648 - val_acc: 0.6806\n",
      "Epoch 54/60\n",
      "13750/13750 [==============================] - 194s 14ms/step - loss: 1.6505 - acc: 0.5794 - val_loss: 1.2809 - val_acc: 0.6762\n",
      "Epoch 55/60\n",
      "13750/13750 [==============================] - 196s 14ms/step - loss: 1.6493 - acc: 0.5789 - val_loss: 1.2663 - val_acc: 0.6800\n",
      "Epoch 56/60\n",
      "13750/13750 [==============================] - 193s 14ms/step - loss: 1.6481 - acc: 0.5796 - val_loss: 1.2638 - val_acc: 0.6822\n",
      "Epoch 57/60\n",
      "13750/13750 [==============================] - 192s 14ms/step - loss: 1.6471 - acc: 0.5790 - val_loss: 1.2824 - val_acc: 0.6797\n",
      "Epoch 58/60\n",
      "13750/13750 [==============================] - 192s 14ms/step - loss: 1.6469 - acc: 0.5796 - val_loss: 1.2670 - val_acc: 0.6805\n",
      "Epoch 59/60\n",
      "13750/13750 [==============================] - 191s 14ms/step - loss: 1.6471 - acc: 0.5787 - val_loss: 1.2651 - val_acc: 0.6781\n",
      "Epoch 60/60\n",
      "13750/13750 [==============================] - 191s 14ms/step - loss: 1.6476 - acc: 0.5789 - val_loss: 1.2826 - val_acc: 0.6784\n"
     ]
    }
   ],
   "source": [
    "history = classifier.fit_generator(\n",
    "        epochs=60,\n",
    "        initial_epoch=50,\n",
    "        generator=train_set,\n",
    "        steps_per_epoch=13750,\n",
    "        validation_data=test_set,\n",
    "        validation_steps=22250,\n",
    "        use_multiprocessing=True)"
   ]
  },
  {
   "cell_type": "markdown",
   "metadata": {
    "colab_type": "text",
    "id": "xDI34ZZQelCw"
   },
   "source": [
    "## The model is kind of stuck at this accuracy, no more improvement is possible - well classifying 59,699 unique doodles out of 88,000 is not that bad, is it?"
   ]
  }
 ],
 "metadata": {
  "accelerator": "GPU",
  "colab": {
   "collapsed_sections": [],
   "name": "cnn-model-v5-28.ipynb",
   "provenance": [],
   "version": "0.3.2"
  },
  "kernelspec": {
   "display_name": "Python 3",
   "language": "python",
   "name": "python3"
  },
  "language_info": {
   "codemirror_mode": {
    "name": "ipython",
    "version": 3
   },
   "file_extension": ".py",
   "mimetype": "text/x-python",
   "name": "python",
   "nbconvert_exporter": "python",
   "pygments_lexer": "ipython3",
   "version": "3.7.3"
  }
 },
 "nbformat": 4,
 "nbformat_minor": 1
}
