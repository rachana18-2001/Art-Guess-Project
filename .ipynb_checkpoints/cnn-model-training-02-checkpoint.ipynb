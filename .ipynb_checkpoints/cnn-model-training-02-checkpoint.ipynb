{
 "cells": [
  {
   "cell_type": "markdown",
   "metadata": {},
   "source": [
    "# Training a Convolutional Neural Network to distinguish 88 different category of doodles"
   ]
  },
  {
   "cell_type": "markdown",
   "metadata": {},
   "source": [
    "### Training the previously trained model on 2000 new test images from each category and testing on 500 new images from each category"
   ]
  },
  {
   "cell_type": "code",
   "execution_count": 1,
   "metadata": {},
   "outputs": [
    {
     "name": "stderr",
     "output_type": "stream",
     "text": [
      "Using TensorFlow backend.\n"
     ]
    }
   ],
   "source": [
    "from keras.models import load_model"
   ]
  },
  {
   "cell_type": "code",
   "execution_count": 3,
   "metadata": {},
   "outputs": [],
   "source": [
    "classifier = load_model('model-75.h5')\n",
    "classifier.compile(optimizer='adam', loss='categorical_crossentropy', metrics=['accuracy'])"
   ]
  },
  {
   "cell_type": "code",
   "execution_count": 4,
   "metadata": {},
   "outputs": [
    {
     "name": "stdout",
     "output_type": "stream",
     "text": [
      "Found 176000 images belonging to 88 classes.\n",
      "Found 44000 images belonging to 88 classes.\n"
     ]
    }
   ],
   "source": [
    "# loading the datasets - 5000 images per category for training and 500 images per category for testing\n",
    "\n",
    "from keras.preprocessing.image import ImageDataGenerator\n",
    "\n",
    "dataset_gen = ImageDataGenerator(rescale=1./255)\n",
    "\n",
    "training_set = dataset_gen.flow_from_directory('dataset-2000/',\n",
    "                                               target_size=(28,28),\n",
    "                                               color_mode='grayscale', batch_size=64)\n",
    "\n",
    "testing_set = dataset_gen.flow_from_directory('dataset-500/',\n",
    "                                               target_size=(28,28),\n",
    "                                               color_mode='grayscale', batch_size=32)"
   ]
  },
  {
   "cell_type": "markdown",
   "metadata": {},
   "source": [
    "### 1 - 10 epochs"
   ]
  },
  {
   "cell_type": "code",
   "execution_count": 5,
   "metadata": {},
   "outputs": [
    {
     "name": "stdout",
     "output_type": "stream",
     "text": [
      "Epoch 1/10\n",
      "2750/2750 [==============================] - 309s 112ms/step - loss: 1.3234 - acc: 0.6636 - val_loss: 0.9845 - val_acc: 0.7500\n",
      "Epoch 2/10\n",
      "2750/2750 [==============================] - 208s 76ms/step - loss: 1.3006 - acc: 0.6678 - val_loss: 0.9722 - val_acc: 0.7530\n",
      "Epoch 3/10\n",
      "2750/2750 [==============================] - 220s 80ms/step - loss: 1.2802 - acc: 0.6715 - val_loss: 0.9672 - val_acc: 0.7531\n",
      "Epoch 4/10\n",
      "2750/2750 [==============================] - 200s 73ms/step - loss: 1.2701 - acc: 0.6739 - val_loss: 0.9672 - val_acc: 0.7539\n",
      "Epoch 5/10\n",
      "2750/2750 [==============================] - 201s 73ms/step - loss: 1.2628 - acc: 0.6747 - val_loss: 0.9657 - val_acc: 0.7524\n",
      "Epoch 6/10\n",
      "2750/2750 [==============================] - 204s 74ms/step - loss: 1.2548 - acc: 0.6762 - val_loss: 0.9682 - val_acc: 0.7541\n",
      "Epoch 7/10\n",
      "2750/2750 [==============================] - 204s 74ms/step - loss: 1.2484 - acc: 0.6778 - val_loss: 0.9878 - val_acc: 0.7498\n",
      "Epoch 8/10\n",
      "2750/2750 [==============================] - 202s 74ms/step - loss: 1.2383 - acc: 0.6798 - val_loss: 0.9732 - val_acc: 0.7516\n",
      "Epoch 9/10\n",
      "2750/2750 [==============================] - 202s 74ms/step - loss: 1.2341 - acc: 0.6798 - val_loss: 0.9585 - val_acc: 0.7539\n",
      "Epoch 10/10\n",
      "2750/2750 [==============================] - 210s 76ms/step - loss: 1.2313 - acc: 0.6814 - val_loss: 0.9714 - val_acc: 0.7521\n"
     ]
    },
    {
     "data": {
      "text/plain": [
       "<keras.callbacks.History at 0x7f7dfe4e2358>"
      ]
     },
     "execution_count": 5,
     "metadata": {},
     "output_type": "execute_result"
    }
   ],
   "source": [
    "classifier.fit_generator(generator=training_set,\n",
    "                         steps_per_epoch=2750,\n",
    "                         epochs=10,\n",
    "                         validation_data=testing_set, validation_steps=1375, use_multiprocessing=True)"
   ]
  },
  {
   "cell_type": "markdown",
   "metadata": {},
   "source": [
    "### Epochs 10 - 20 "
   ]
  },
  {
   "cell_type": "code",
   "execution_count": 6,
   "metadata": {},
   "outputs": [],
   "source": [
    "classifier.save('model-?.h5')"
   ]
  },
  {
   "cell_type": "code",
   "execution_count": 7,
   "metadata": {},
   "outputs": [
    {
     "name": "stdout",
     "output_type": "stream",
     "text": [
      "Epoch 11/20\n",
      "2750/2750 [==============================] - 214s 78ms/step - loss: 1.2265 - acc: 0.6819 - val_loss: 0.9716 - val_acc: 0.7513\n",
      "Epoch 12/20\n",
      "2750/2750 [==============================] - 196s 71ms/step - loss: 1.2234 - acc: 0.6829 - val_loss: 0.9705 - val_acc: 0.7499\n",
      "Epoch 13/20\n",
      "2750/2750 [==============================] - 201s 73ms/step - loss: 1.2181 - acc: 0.6821 - val_loss: 0.9651 - val_acc: 0.7518\n",
      "Epoch 14/20\n",
      "2750/2750 [==============================] - 200s 73ms/step - loss: 1.2144 - acc: 0.6846 - val_loss: 0.9573 - val_acc: 0.7552\n",
      "Epoch 15/20\n",
      "2750/2750 [==============================] - 198s 72ms/step - loss: 1.2116 - acc: 0.6863 - val_loss: 0.9710 - val_acc: 0.7514\n",
      "Epoch 16/20\n",
      "2750/2750 [==============================] - 204s 74ms/step - loss: 1.2097 - acc: 0.6852 - val_loss: 0.9556 - val_acc: 0.7555\n",
      "Epoch 17/20\n",
      "2750/2750 [==============================] - 198s 72ms/step - loss: 1.2090 - acc: 0.6854 - val_loss: 0.9528 - val_acc: 0.7565\n",
      "Epoch 18/20\n",
      "2750/2750 [==============================] - 211s 77ms/step - loss: 1.2081 - acc: 0.6867 - val_loss: 0.9594 - val_acc: 0.7549\n",
      "Epoch 19/20\n",
      "2750/2750 [==============================] - 219s 80ms/step - loss: 1.2031 - acc: 0.6868 - val_loss: 0.9696 - val_acc: 0.7537\n",
      "Epoch 20/20\n",
      "2750/2750 [==============================] - 223s 81ms/step - loss: 1.1967 - acc: 0.6884 - val_loss: 0.9617 - val_acc: 0.7543\n"
     ]
    },
    {
     "data": {
      "text/plain": [
       "<keras.callbacks.History at 0x7f7dc9f76e10>"
      ]
     },
     "execution_count": 7,
     "metadata": {},
     "output_type": "execute_result"
    }
   ],
   "source": [
    "classifier.fit_generator(generator=training_set,\n",
    "                         initial_epoch=10,\n",
    "                         steps_per_epoch=2750,\n",
    "                         epochs=20,\n",
    "                         validation_data=testing_set, validation_steps=1375, use_multiprocessing=True)"
   ]
  },
  {
   "cell_type": "code",
   "execution_count": 8,
   "metadata": {},
   "outputs": [],
   "source": [
    "classifier.save('model-?-2.h5')"
   ]
  },
  {
   "cell_type": "markdown",
   "metadata": {},
   "source": [
    "### Epochs 20 - 30"
   ]
  },
  {
   "cell_type": "code",
   "execution_count": 9,
   "metadata": {},
   "outputs": [
    {
     "name": "stdout",
     "output_type": "stream",
     "text": [
      "Epoch 21/30\n",
      "2750/2750 [==============================] - 221s 80ms/step - loss: 1.1980 - acc: 0.6874 - val_loss: 0.9794 - val_acc: 0.7488\n",
      "Epoch 22/30\n",
      "2750/2750 [==============================] - 334s 122ms/step - loss: 1.1970 - acc: 0.6873 - val_loss: 0.9644 - val_acc: 0.7540\n",
      "Epoch 23/30\n",
      "2750/2750 [==============================] - 354s 129ms/step - loss: 1.1959 - acc: 0.6880 - val_loss: 0.9562 - val_acc: 0.7552\n",
      "Epoch 24/30\n",
      "2750/2750 [==============================] - 186s 68ms/step - loss: 1.1926 - acc: 0.6891 - val_loss: 0.9536 - val_acc: 0.7554\n",
      "Epoch 25/30\n",
      "2750/2750 [==============================] - 200s 73ms/step - loss: 1.1925 - acc: 0.6884 - val_loss: 0.9592 - val_acc: 0.7560\n",
      "Epoch 26/30\n",
      "2750/2750 [==============================] - 203s 74ms/step - loss: 1.1873 - acc: 0.6889 - val_loss: 0.9644 - val_acc: 0.7536\n",
      "Epoch 27/30\n",
      "2750/2750 [==============================] - 206s 75ms/step - loss: 1.1874 - acc: 0.6896 - val_loss: 0.9598 - val_acc: 0.7563\n",
      "Epoch 28/30\n",
      "2750/2750 [==============================] - 205s 75ms/step - loss: 1.1854 - acc: 0.6890 - val_loss: 0.9585 - val_acc: 0.7562\n",
      "Epoch 29/30\n",
      "2750/2750 [==============================] - 209s 76ms/step - loss: 1.1868 - acc: 0.6888 - val_loss: 0.9625 - val_acc: 0.7543\n",
      "Epoch 30/30\n",
      "2750/2750 [==============================] - 213s 77ms/step - loss: 1.1849 - acc: 0.6910 - val_loss: 0.9622 - val_acc: 0.7533\n"
     ]
    },
    {
     "data": {
      "text/plain": [
       "<keras.callbacks.History at 0x7f7dfe48e208>"
      ]
     },
     "execution_count": 9,
     "metadata": {},
     "output_type": "execute_result"
    }
   ],
   "source": [
    "classifier.fit_generator(generator=training_set,\n",
    "                         initial_epoch=20,\n",
    "                         steps_per_epoch=2750,\n",
    "                         epochs=30,\n",
    "                         validation_data=testing_set, validation_steps=1375, use_multiprocessing=True)"
   ]
  },
  {
   "cell_type": "code",
   "execution_count": 10,
   "metadata": {},
   "outputs": [],
   "source": [
    "classifier.save('model-?-3.h5')"
   ]
  },
  {
   "cell_type": "markdown",
   "metadata": {},
   "source": [
    "### Changing the training and testing dataset, now training on 1000 images from each category and testing on 250 new images from each category"
   ]
  },
  {
   "cell_type": "code",
   "execution_count": 11,
   "metadata": {},
   "outputs": [
    {
     "name": "stdout",
     "output_type": "stream",
     "text": [
      "Found 88000 images belonging to 88 classes.\n",
      "Found 22000 images belonging to 88 classes.\n"
     ]
    }
   ],
   "source": [
    "training_set = dataset_gen.flow_from_directory('dataset-new-1000/',\n",
    "                                               target_size=(28,28),\n",
    "                                               color_mode='grayscale', batch_size=32)\n",
    "\n",
    "testing_set = dataset_gen.flow_from_directory('dataset-250/',\n",
    "                                               target_size=(28,28),\n",
    "                                               color_mode='grayscale', batch_size=8)"
   ]
  },
  {
   "cell_type": "markdown",
   "metadata": {},
   "source": [
    "### Epochs 30 - 50"
   ]
  },
  {
   "cell_type": "code",
   "execution_count": 12,
   "metadata": {},
   "outputs": [
    {
     "name": "stdout",
     "output_type": "stream",
     "text": [
      "Epoch 21/30\n",
      "2750/2750 [==============================] - 136s 49ms/step - loss: 1.3562 - acc: 0.6556 - val_loss: 1.0026 - val_acc: 0.7445\n",
      "Epoch 22/30\n",
      "2750/2750 [==============================] - 106s 38ms/step - loss: 1.3030 - acc: 0.6667 - val_loss: 0.9965 - val_acc: 0.7442\n",
      "Epoch 23/30\n",
      "2750/2750 [==============================] - 111s 40ms/step - loss: 1.2830 - acc: 0.6698 - val_loss: 0.9887 - val_acc: 0.7430\n",
      "Epoch 24/30\n",
      "2750/2750 [==============================] - 113s 41ms/step - loss: 1.2649 - acc: 0.6746 - val_loss: 0.9958 - val_acc: 0.7450\n",
      "Epoch 25/30\n",
      "2750/2750 [==============================] - 111s 40ms/step - loss: 1.2524 - acc: 0.6741 - val_loss: 1.0131 - val_acc: 0.7378\n",
      "Epoch 26/30\n",
      "2750/2750 [==============================] - 114s 41ms/step - loss: 1.2392 - acc: 0.6778 - val_loss: 1.0038 - val_acc: 0.7427\n",
      "Epoch 27/30\n",
      "2750/2750 [==============================] - 115s 42ms/step - loss: 1.2267 - acc: 0.6799 - val_loss: 1.0086 - val_acc: 0.7393\n",
      "Epoch 28/30\n",
      "2750/2750 [==============================] - 117s 43ms/step - loss: 1.2186 - acc: 0.6824 - val_loss: 1.0012 - val_acc: 0.7394\n",
      "Epoch 29/30\n",
      "2750/2750 [==============================] - 116s 42ms/step - loss: 1.2143 - acc: 0.6824 - val_loss: 1.0065 - val_acc: 0.7413\n",
      "Epoch 30/30\n",
      "2750/2750 [==============================] - 116s 42ms/step - loss: 1.2025 - acc: 0.6847 - val_loss: 0.9986 - val_acc: 0.7414\n"
     ]
    },
    {
     "data": {
      "text/plain": [
       "<keras.callbacks.History at 0x7f7dca7a8c50>"
      ]
     },
     "execution_count": 12,
     "metadata": {},
     "output_type": "execute_result"
    }
   ],
   "source": [
    "classifier.fit_generator(generator=training_set,\n",
    "                         initial_epoch=20,\n",
    "                         steps_per_epoch=2750,\n",
    "                         epochs=30,\n",
    "                         validation_data=testing_set, validation_steps=2750, use_multiprocessing=True)"
   ]
  },
  {
   "cell_type": "code",
   "execution_count": 13,
   "metadata": {},
   "outputs": [],
   "source": [
    "classifier.save('model-?-smaller-dataset.h5')"
   ]
  },
  {
   "cell_type": "markdown",
   "metadata": {},
   "source": [
    "# Testing model performance on sample data"
   ]
  },
  {
   "cell_type": "code",
   "execution_count": 14,
   "metadata": {},
   "outputs": [
    {
     "data": {
      "text/plain": [
       "{'The_Mona_Lisa': 0,\n",
       " 'airplane': 1,\n",
       " 'angel': 2,\n",
       " 'ant': 3,\n",
       " 'axe': 4,\n",
       " 'bicycle': 5,\n",
       " 'birthday_cake': 6,\n",
       " 'boomerang': 7,\n",
       " 'brain': 8,\n",
       " 'broccoli': 9,\n",
       " 'butterfly': 10,\n",
       " 'cactus': 11,\n",
       " 'calculator': 12,\n",
       " 'camel': 13,\n",
       " 'ceiling_fan': 14,\n",
       " 'compass': 15,\n",
       " 'cow': 16,\n",
       " 'cruise_ship': 17,\n",
       " 'cup': 18,\n",
       " 'dolphin': 19,\n",
       " 'dragon': 20,\n",
       " 'duck': 21,\n",
       " 'elephant': 22,\n",
       " 'eye': 23,\n",
       " 'face': 24,\n",
       " 'fish': 25,\n",
       " 'flip_flops': 26,\n",
       " 'frog': 27,\n",
       " 'giraffe': 28,\n",
       " 'grapes': 29,\n",
       " 'guitar': 30,\n",
       " 'hammer': 31,\n",
       " 'hand': 32,\n",
       " 'helicopter': 33,\n",
       " 'house': 34,\n",
       " 'ice_cream': 35,\n",
       " 'jacket': 36,\n",
       " 'jail': 37,\n",
       " 'kangaroo': 38,\n",
       " 'key': 39,\n",
       " 'leaf': 40,\n",
       " 'leg': 41,\n",
       " 'lightning': 42,\n",
       " 'lion': 43,\n",
       " 'lipstick': 44,\n",
       " 'mermaid': 45,\n",
       " 'mosquito': 46,\n",
       " 'mouse': 47,\n",
       " 'mushroom': 48,\n",
       " 'necklace': 49,\n",
       " 'octopus': 50,\n",
       " 'onion': 51,\n",
       " 'pants': 52,\n",
       " 'parrot': 53,\n",
       " 'piano': 54,\n",
       " 'pig': 55,\n",
       " 'pizza': 56,\n",
       " 'rabbit': 57,\n",
       " 'radio': 58,\n",
       " 'rain': 59,\n",
       " 'rainbow': 60,\n",
       " 'rollerskates': 61,\n",
       " 'sandwich': 62,\n",
       " 'scissors': 63,\n",
       " 'sea_turtle': 64,\n",
       " 'shark': 65,\n",
       " 'skull': 66,\n",
       " 'spider': 67,\n",
       " 'stereo': 68,\n",
       " 'strawberry': 69,\n",
       " 'swan': 70,\n",
       " 'sword': 71,\n",
       " 't_shirt': 72,\n",
       " 'teddy_bear': 73,\n",
       " 'television': 74,\n",
       " 'tiger': 75,\n",
       " 'toothbrush': 76,\n",
       " 'tree': 77,\n",
       " 'umbrella': 78,\n",
       " 'underwear': 79,\n",
       " 'vase': 80,\n",
       " 'washing_machine': 81,\n",
       " 'whale': 82,\n",
       " 'wheel': 83,\n",
       " 'windmill': 84,\n",
       " 'wine_glass': 85,\n",
       " 'zebra': 86,\n",
       " 'zigzag': 87}"
      ]
     },
     "execution_count": 14,
     "metadata": {},
     "output_type": "execute_result"
    }
   ],
   "source": [
    "training_set.class_indices"
   ]
  },
  {
   "cell_type": "code",
   "execution_count": 24,
   "metadata": {},
   "outputs": [
    {
     "name": "stdout",
     "output_type": "stream",
     "text": [
      "Predicted Class 21\n",
      "Probability:  0.831617\n"
     ]
    }
   ],
   "source": [
    "from keras.preprocessing import image\n",
    "import numpy as np\n",
    "\n",
    "img = image.load_img('samples/duck/102487.png', target_size=(28, 28), color_mode='grayscale')\n",
    "img = image.img_to_array(img)\n",
    "img = np.expand_dims(img, axis=0)\n",
    "img = img/255.\n",
    "\n",
    "index = classifier.predict_classes(img)[0]\n",
    "print('Predicted Class', index)\n",
    "print('Probability: ', classifier.predict(img)[0][index])"
   ]
  }
 ],
 "metadata": {
  "kernelspec": {
   "display_name": "Python 3",
   "language": "python",
   "name": "python3"
  },
  "language_info": {
   "codemirror_mode": {
    "name": "ipython",
    "version": 3
   },
   "file_extension": ".py",
   "mimetype": "text/x-python",
   "name": "python",
   "nbconvert_exporter": "python",
   "pygments_lexer": "ipython3",
   "version": "3.7.3"
  }
 },
 "nbformat": 4,
 "nbformat_minor": 2
}
