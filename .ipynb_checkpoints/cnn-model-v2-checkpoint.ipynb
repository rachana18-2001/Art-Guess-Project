{
 "cells": [
  {
   "cell_type": "code",
   "execution_count": 14,
   "metadata": {},
   "outputs": [],
   "source": [
    "from keras.models import Sequential\n",
    "from keras.layers import Convolution2D\n",
    "from keras.layers import MaxPooling2D\n",
    "from keras.layers import Flatten\n",
    "\n",
    "from keras.layers import Dense\n",
    "from keras.layers import Dropout"
   ]
  },
  {
   "cell_type": "code",
   "execution_count": 15,
   "metadata": {},
   "outputs": [],
   "source": [
    "classifier = Sequential()\n",
    "\n",
    "# first conv layer\n",
    "classifier.add(Convolution2D(\n",
    "        input_shape=(140,140,1),\n",
    "        filters=32,\n",
    "        kernel_size=(3,3),\n",
    "        activation='relu',\n",
    "        kernel_initializer='uniform'))\n",
    "\n",
    "# second conv layer\n",
    "classifier.add(Convolution2D(\n",
    "        filters=32,\n",
    "        kernel_size=(1,1),\n",
    "        activation='relu',\n",
    "        kernel_initializer='uniform'))\n",
    "\n",
    "# max pooling layer\n",
    "classifier.add(MaxPooling2D(\n",
    "        pool_size=(2,2),\n",
    "        strides=(2,2)))\n",
    "\n",
    "# third conv layer\n",
    "classifier.add(Convolution2D(\n",
    "        filters=64,\n",
    "        kernel_size=(3,3),\n",
    "        activation='relu',\n",
    "        kernel_initializer='uniform'))\n",
    "\n",
    "# max pooling layer\n",
    "classifier.add(MaxPooling2D(\n",
    "        pool_size=(2,2),\n",
    "        strides=(2,2)))\n",
    "\n",
    "# flattening for feeding the data to a fully connected artificial neural network\n",
    "classifier.add(Flatten())\n",
    "\n",
    "# first hidden layer\n",
    "classifier.add(Dense(units=256, activation='relu', kernel_initializer='uniform'))\n",
    "classifier.add(Dropout(rate=0.5))\n",
    "\n",
    "# output layer\n",
    "classifier.add(Dense(units=88, activation='softmax', kernel_initializer='uniform'))\n",
    "\n",
    "# compiling the CNN\n",
    "classifier.compile(optimizer='adam', loss='categorical_crossentropy', metrics=['accuracy'])"
   ]
  },
  {
   "cell_type": "code",
   "execution_count": null,
   "metadata": {},
   "outputs": [],
   "source": [
    "# image preprocessing before feeding into the CNN\n",
    "from keras.preprocessing.image import ImageDataGenerator\n",
    "\n",
    "data_generator = ImageDataGenerator(rescale=1./255)\n",
    "\n",
    "# training data set\n",
    "train_set = data_generator.flow_from_directory(\n",
    "        'dataset-1000/',\n",
    "        batch_size=64,\n",
    "        target_size=(140,140), color_mode='grayscale')\n",
    "\n",
    "# testing/validation data set\n",
    "test_set = data_generator.flow_from_directory(\n",
    "        'dataset-100/',\n",
    "        batch_size=64,\n",
    "        target_size=(140,140), color_mode='grayscale')"
   ]
  },
  {
   "cell_type": "code",
   "execution_count": null,
   "metadata": {},
   "outputs": [],
   "source": []
  }
 ],
 "metadata": {
  "kernelspec": {
   "display_name": "Python 3",
   "language": "python",
   "name": "python3"
  },
  "language_info": {
   "codemirror_mode": {
    "name": "ipython",
    "version": 3
   },
   "file_extension": ".py",
   "mimetype": "text/x-python",
   "name": "python",
   "nbconvert_exporter": "python",
   "pygments_lexer": "ipython3",
   "version": "3.7.3"
  }
 },
 "nbformat": 4,
 "nbformat_minor": 2
}
