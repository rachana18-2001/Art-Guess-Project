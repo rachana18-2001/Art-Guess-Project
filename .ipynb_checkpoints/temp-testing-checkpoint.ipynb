{
 "cells": [
  {
   "cell_type": "code",
   "execution_count": 1,
   "metadata": {},
   "outputs": [
    {
     "name": "stderr",
     "output_type": "stream",
     "text": [
      "Using TensorFlow backend.\n"
     ]
    }
   ],
   "source": [
    "from keras.models import load_model"
   ]
  },
  {
   "cell_type": "code",
   "execution_count": 3,
   "metadata": {},
   "outputs": [],
   "source": [
    "classifier = load_model('trained-model-140-colab/model-140-v2-7200.h5')"
   ]
  },
  {
   "cell_type": "code",
   "execution_count": 4,
   "metadata": {},
   "outputs": [],
   "source": [
    "from keras.preprocessing import image"
   ]
  },
  {
   "cell_type": "code",
   "execution_count": 18,
   "metadata": {},
   "outputs": [
    {
     "name": "stdout",
     "output_type": "stream",
     "text": [
      "'The_Mona_Lisa': 0,\r\n",
      " 'airplane': 1,\r\n",
      " 'angel': 2,\r\n",
      " 'ant': 3,\r\n",
      " 'axe': 4,\r\n",
      " 'bicycle': 5,\r\n",
      " 'birthday_cake': 6,\r\n",
      " 'boomerang': 7,\r\n",
      " 'brain': 8,\r\n",
      " 'broccoli': 9,\r\n",
      " 'butterfly': 10,\r\n",
      " 'cactus': 11,\r\n",
      " 'calculator': 12,\r\n",
      " 'camel': 13,\r\n",
      " 'ceiling_fan': 14,\r\n",
      " 'compass': 15,\r\n",
      " 'cow': 16,\r\n",
      " 'cruise_ship': 17,\r\n",
      " 'cup': 18,\r\n",
      " 'dolphin': 19,\r\n",
      " 'dragon': 20,\r\n",
      " 'duck': 21,\r\n",
      " 'elephant': 22,\r\n",
      " 'eye': 23,\r\n",
      " 'face': 24,\r\n",
      " 'fish': 25,\r\n",
      " 'flip_flops': 26,\r\n",
      " 'frog': 27,\r\n",
      " 'giraffe': 28,\r\n",
      " 'grapes': 29,\r\n",
      " 'guitar': 30,\r\n",
      " 'hammer': 31,\r\n",
      " 'hand': 32,\r\n",
      " 'helicopter': 33,\r\n",
      " 'house': 34,\r\n",
      " 'ice_cream': 35,\r\n",
      " 'jacket': 36,\r\n",
      " 'jail': 37,\r\n",
      " 'kangaroo': 38,\r\n",
      " 'key': 39,\r\n",
      " 'leaf': 40,\r\n",
      " 'leg': 41,\r\n",
      " 'lightning': 42,\r\n",
      " 'lion': 43,\r\n",
      " 'lipstick': 44,\r\n",
      " 'mermaid': 45,\r\n",
      " 'mosquito': 46,\r\n",
      " 'mouse': 47,\r\n",
      " 'mushroom': 48,\r\n",
      " 'necklace': 49,\r\n",
      " 'octopus': 50,\r\n",
      " 'onion': 51,\r\n",
      " 'pants': 52,\r\n",
      " 'parrot': 53,\r\n",
      " 'piano': 54,\r\n",
      " 'pig': 55,\r\n",
      " 'pizza': 56,\r\n",
      " 'rabbit': 57,\r\n",
      " 'radio': 58,\r\n",
      " 'rain': 59,\r\n",
      " 'rainbow': 60,\r\n",
      " 'rollerskates': 61,\r\n",
      " 'sandwich': 62,\r\n",
      " 'scissors': 63,\r\n",
      " 'sea_turtle': 64,\r\n",
      " 'shark': 65,\r\n",
      " 'skull': 66,\r\n",
      " 'spider': 67,\r\n",
      " 'stereo': 68,\r\n",
      " 'strawberry': 69,\r\n",
      " 'swan': 70,\r\n",
      " 'sword': 71,\r\n",
      " 't_shirt': 72,\r\n",
      " 'teddy_bear': 73,\r\n",
      " 'television': 74,\r\n",
      " 'tiger': 75,\r\n",
      " 'toothbrush': 76,\r\n",
      " 'tree': 77,\r\n",
      " 'umbrella': 78,\r\n",
      " 'underwear': 79,\r\n",
      " 'vase': 80,\r\n",
      " 'washing_machine': 81,\r\n",
      " 'whale': 82,\r\n",
      " 'wheel': 83,\r\n",
      " 'windmill': 84,\r\n",
      " 'wine_glass': 85,\r\n",
      " 'zebra': 86,\r\n",
      " 'zigzag': 87\r\n"
     ]
    }
   ],
   "source": [
    "! cat class_indices.txt"
   ]
  },
  {
   "cell_type": "code",
   "execution_count": 54,
   "metadata": {},
   "outputs": [
    {
     "data": {
      "text/plain": [
       "array([3])"
      ]
     },
     "execution_count": 54,
     "metadata": {},
     "output_type": "execute_result"
    }
   ],
   "source": [
    "img = image.load_img('samples/ant/105097.png', color_mode='grayscale', target_size=(140,140))\n",
    "img = image.img_to_array(img)\n",
    "img = img/255\n",
    "img = img.reshape(1,140,140,1)\n",
    "classifier.predict_classes(img)"
   ]
  },
  {
   "cell_type": "code",
   "execution_count": 60,
   "metadata": {},
   "outputs": [
    {
     "name": "stdout",
     "output_type": "stream",
     "text": [
      "sdcard/saved_images/file.txt: 1 file p...led. 6.7 MB/s (392000 bytes in 0.056s)\u001b[K\n"
     ]
    }
   ],
   "source": [
    "! adb pull sdcard/saved_images/file.txt\n",
    "p = ! cat file.txt"
   ]
  },
  {
   "cell_type": "code",
   "execution_count": 53,
   "metadata": {},
   "outputs": [],
   "source": [
    "import matplotlib.pyplot as plt\n",
    "%matplotlib inline"
   ]
  },
  {
   "cell_type": "code",
   "execution_count": 61,
   "metadata": {},
   "outputs": [],
   "source": [
    "import numpy as np\n",
    "arr = np.array(p)"
   ]
  },
  {
   "cell_type": "code",
   "execution_count": 62,
   "metadata": {},
   "outputs": [
    {
     "ename": "ValueError",
     "evalue": "cannot reshape array of size 1 into shape (140,140)",
     "output_type": "error",
     "traceback": [
      "\u001b[0;31m----------------------------------------------------------------------\u001b[0m",
      "\u001b[0;31mValueError\u001b[0m                           Traceback (most recent call last)",
      "\u001b[0;32m<ipython-input-62-2a98c055e935>\u001b[0m in \u001b[0;36m<module>\u001b[0;34m()\u001b[0m\n\u001b[0;32m----> 1\u001b[0;31m \u001b[0mplt\u001b[0m\u001b[0;34m.\u001b[0m\u001b[0mimshow\u001b[0m\u001b[0;34m(\u001b[0m\u001b[0marr\u001b[0m\u001b[0;34m.\u001b[0m\u001b[0mreshape\u001b[0m\u001b[0;34m(\u001b[0m\u001b[0;36m140\u001b[0m\u001b[0;34m,\u001b[0m\u001b[0;36m140\u001b[0m\u001b[0;34m)\u001b[0m\u001b[0;34m,\u001b[0m\u001b[0mcmap\u001b[0m\u001b[0;34m=\u001b[0m\u001b[0;34m'gray'\u001b[0m\u001b[0;34m)\u001b[0m\u001b[0;34m\u001b[0m\u001b[0;34m\u001b[0m\u001b[0m\n\u001b[0m",
      "\u001b[0;31mValueError\u001b[0m: cannot reshape array of size 1 into shape (140,140)"
     ]
    }
   ],
   "source": [
    "plt.imshow(arr.reshape(280,280),cmap='gray')"
   ]
  },
  {
   "cell_type": "code",
   "execution_count": 41,
   "metadata": {},
   "outputs": [],
   "source": [
    "arr = arr.reshape(1,140,140,1)"
   ]
  },
  {
   "cell_type": "code",
   "execution_count": 43,
   "metadata": {},
   "outputs": [
    {
     "data": {
      "text/plain": [
       "array([59])"
      ]
     },
     "execution_count": 43,
     "metadata": {},
     "output_type": "execute_result"
    }
   ],
   "source": [
    "classifier.predict_classes(arr)"
   ]
  },
  {
   "cell_type": "code",
   "execution_count": null,
   "metadata": {},
   "outputs": [],
   "source": []
  }
 ],
 "metadata": {
  "kernelspec": {
   "display_name": "Python 3",
   "language": "python",
   "name": "python3"
  },
  "language_info": {
   "codemirror_mode": {
    "name": "ipython",
    "version": 3
   },
   "file_extension": ".py",
   "mimetype": "text/x-python",
   "name": "python",
   "nbconvert_exporter": "python",
   "pygments_lexer": "ipython3",
   "version": "3.7.3"
  }
 },
 "nbformat": 4,
 "nbformat_minor": 2
}
