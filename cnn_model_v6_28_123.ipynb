{
  "nbformat": 4,
  "nbformat_minor": 0,
  "metadata": {
    "colab": {
      "name": "cnn-model-v6-28-123.ipynb",
      "version": "0.3.2",
      "provenance": [],
      "collapsed_sections": []
    },
    "kernelspec": {
      "name": "python3",
      "display_name": "Python 3"
    },
    "accelerator": "GPU"
  },
  "cells": [
    {
      "cell_type": "markdown",
      "metadata": {
        "id": "6Sagxv1DIQGw",
        "colab_type": "text"
      },
      "source": [
        "# Training a Convolutional Neural Network to distinguish 123 different category of doodles - v6"
      ]
    },
    {
      "cell_type": "markdown",
      "metadata": {
        "id": "nQG2Coj6IUOC",
        "colab_type": "text"
      },
      "source": [
        "### Training on 4920 images from each category and testing on 1080 images from each 123 categories"
      ]
    },
    {
      "cell_type": "code",
      "metadata": {
        "id": "AqAgykLNILJ4",
        "colab_type": "code",
        "outputId": "a1c984f5-faba-4b9c-c7f2-b816ee92611c",
        "colab": {
          "base_uri": "https://localhost:8080/",
          "height": 153
        }
      },
      "source": [
        "! git clone https://github.com/jp-test-account/dataset.git"
      ],
      "execution_count": 1,
      "outputs": [
        {
          "output_type": "stream",
          "text": [
            "Cloning into 'dataset'...\n",
            "remote: Enumerating objects: 127, done.\u001b[K\n",
            "remote: Counting objects: 100% (127/127), done.\u001b[K\n",
            "remote: Compressing objects: 100% (91/91), done.\u001b[K\n",
            "remote: Total 127 (delta 36), reused 127 (delta 36), pack-reused 0\u001b[K\n",
            "Receiving objects: 100% (127/127), 189.00 MiB | 27.11 MiB/s, done.\n",
            "Resolving deltas: 100% (36/36), done.\n",
            "Checking out files: 100% (124/124), done.\n"
          ],
          "name": "stdout"
        }
      ]
    },
    {
      "cell_type": "code",
      "metadata": {
        "id": "K5Wnp-zF6Pcy",
        "colab_type": "code",
        "colab": {
          "base_uri": "https://localhost:8080/",
          "height": 34
        },
        "outputId": "00831352-5c29-4a69-aa1e-c9be9fa3ecaf"
      },
      "source": [
        "! cd dataset && ls"
      ],
      "execution_count": 3,
      "outputs": [
        {
          "output_type": "stream",
          "text": [
            "dataset-6000  npy-to-png.py\n"
          ],
          "name": "stdout"
        }
      ]
    },
    {
      "cell_type": "code",
      "metadata": {
        "id": "y-F8Re2ZIP0G",
        "colab_type": "code",
        "outputId": "110fe1bd-2de4-4b34-b60d-5bc19426d5e1",
        "colab": {
          "base_uri": "https://localhost:8080/",
          "height": 2125
        }
      },
      "source": [
        "! cd dataset && python npy-to-png.py dataset-6000 6000"
      ],
      "execution_count": 4,
      "outputs": [
        {
          "output_type": "stream",
          "text": [
            "Pulling 6000 images from see_saw.npy... Done\n",
            "Pulling 6000 images from cup.npy... Done\n",
            "Pulling 6000 images from zigzag.npy... Done\n",
            "Pulling 6000 images from airplane.npy... Done\n",
            "Pulling 6000 images from sea_turtle.npy... Done\n",
            "Pulling 6000 images from eye.npy... Done\n",
            "Pulling 6000 images from ceiling_fan.npy... Done\n",
            "Pulling 6000 images from hammer.npy... Done\n",
            "Pulling 6000 images from face.npy... Done\n",
            "Pulling 6000 images from saw.npy... Done\n",
            "Pulling 6000 images from tiger.npy... Done\n",
            "Pulling 6000 images from cruise ship.npy... Done\n",
            "Pulling 6000 images from duck.npy... Done\n",
            "Pulling 6000 images from wheel.npy... Done\n",
            "Pulling 6000 images from pencil.npy... Done\n",
            "Pulling 6000 images from apple.npy... Done\n",
            "Pulling 6000 images from necklace.npy... Done\n",
            "Pulling 6000 images from key.npy... Done\n",
            "Pulling 6000 images from scissors.npy... Done\n",
            "Pulling 6000 images from lion.npy... Done\n",
            "Pulling 6000 images from sandwich.npy... Done\n",
            "Pulling 6000 images from mosquito.npy... Done\n",
            "Pulling 6000 images from beach.npy... Done\n",
            "Pulling 6000 images from tree.npy... Done\n",
            "Pulling 6000 images from kangaroo.npy... Done\n",
            "Pulling 6000 images from helicopter.npy... Done\n",
            "Pulling 6000 images from mushroom.npy... Done\n",
            "Pulling 6000 images from underwear.npy... Done\n",
            "Pulling 6000 images from brain.npy... Done\n",
            "Pulling 6000 images from cactus.npy... Done\n",
            "Pulling 6000 images from flip_flops.npy... Done\n",
            "Pulling 6000 images from zebra.npy... Done\n",
            "Pulling 6000 images from ant.npy... Done\n",
            "Pulling 6000 images from mouse.npy... Done\n",
            "Pulling 6000 images from broccoli.npy... Done\n",
            "Pulling 6000 images from skull.npy... Done\n",
            "Pulling 6000 images from butterfly.npy... Done\n",
            "Pulling 6000 images from calculator.npy... Done\n",
            "Pulling 6000 images from giraffe.npy... Done\n",
            "Pulling 6000 images from stereo.npy... Done\n",
            "Pulling 6000 images from fish.npy... Done\n",
            "Pulling 6000 images from dragon.npy... Done\n",
            "Pulling 6000 images from ladder.npy... Done\n",
            "Pulling 6000 images from The_Eiffel_Tower.npy... Done\n",
            "Pulling 6000 images from piano.npy... Done\n",
            "Pulling 6000 images from flower.npy... Done\n",
            "Pulling 6000 images from shark.npy... Done\n",
            "Pulling 6000 images from washing_machine.npy... Done\n",
            "Pulling 6000 images from map.npy... Done\n",
            "Pulling 6000 images from dolphin.npy... Done\n",
            "Pulling 6000 images from nose.npy... Done\n",
            "Pulling 6000 images from wine_glass.npy... Done\n",
            "Pulling 6000 images from bicycle.npy... Done\n",
            "Pulling 6000 images from ice_cream.npy... Done\n",
            "Pulling 6000 images from castle.npy... Done\n",
            "Pulling 6000 images from keyboard.npy... Done\n",
            "Pulling 6000 images from cow.npy... Done\n",
            "Pulling 6000 images from compass.npy... Done\n",
            "Pulling 6000 images from elephant.npy... Done\n",
            "Pulling 6000 images from mermaid.npy... Done\n",
            "Pulling 6000 images from stairs.npy... Done\n",
            "Pulling 6000 images from lightning.npy... Done\n",
            "Pulling 6000 images from boomerang.npy... Done\n",
            "Pulling 6000 images from basket.npy... Done\n",
            "Pulling 6000 images from hospital.npy... Done\n",
            "Pulling 6000 images from vase.npy... Done\n",
            "Pulling 6000 images from octopus.npy... Done\n",
            "Pulling 6000 images from pond.npy... Done\n",
            "Pulling 6000 images from rifle.npy... Done\n",
            "Pulling 6000 images from television.npy... Done\n",
            "Pulling 6000 images from leg.npy... Done\n",
            "Pulling 6000 images from jail.npy... Done\n",
            "Pulling 6000 images from wristwatch.npy... Done\n",
            "Pulling 6000 images from rainbow.npy... Done\n",
            "Pulling 6000 images from leaf.npy... Done\n",
            "Pulling 6000 images from umbrella.npy... Done\n",
            "Pulling 6000 images from rain.npy... Done\n",
            "Pulling 6000 images from The_Mona_Lisa.npy... Done\n",
            "Pulling 6000 images from hat.npy... Done\n",
            "Pulling 6000 images from cruise_ship.npy... Done\n",
            "Pulling 6000 images from radio.npy... Done\n",
            "Pulling 6000 images from ambulance.npy... Done\n",
            "Pulling 6000 images from whale.npy... Done\n",
            "Pulling 6000 images from camel.npy... Done\n",
            "Pulling 6000 images from lollipop.npy... Done\n",
            "Pulling 6000 images from sword.npy... Done\n",
            "Pulling 6000 images from strawberry.npy... Done\n",
            "Pulling 6000 images from house.npy... Done\n",
            "Pulling 6000 images from angel.npy... Done\n",
            "Pulling 6000 images from banana.npy... Done\n",
            "Pulling 6000 images from pig.npy... Done\n",
            "Pulling 6000 images from rabbit.npy... Done\n",
            "Pulling 6000 images from pizza.npy... Done\n",
            "Pulling 6000 images from onion.npy... Done\n",
            "Pulling 6000 images from pants.npy... Done\n",
            "Pulling 6000 images from toothbrush.npy... Done\n",
            "Pulling 6000 images from lipstick.npy... Done\n",
            "Pulling 6000 images from guitar.npy... Done\n",
            "Pulling 6000 images from t_shirt.npy... Done\n",
            "Pulling 6000 images from jacket.npy... Done\n",
            "Pulling 6000 images from book.npy... Done\n",
            "Pulling 6000 images from light_bulb.npy... Done\n",
            "Pulling 6000 images from mountain.npy... Done\n",
            "Pulling 6000 images from teddy_bear.npy... Done\n",
            "Pulling 6000 images from feather.npy... Done\n",
            "Pulling 6000 images from circle.npy... Done\n",
            "Pulling 6000 images from ocean.npy... Done\n",
            "Pulling 6000 images from frog.npy... Done\n",
            "Pulling 6000 images from star.npy... Done\n",
            "Pulling 6000 images from pillow.npy... Done\n",
            "Pulling 6000 images from grapes.npy... Done\n",
            "Pulling 6000 images from swan.npy... Done\n",
            "Pulling 6000 images from rollerskates.npy... Done\n",
            "Pulling 6000 images from tent.npy... Done\n",
            "Pulling 6000 images from envelope.npy... Done\n",
            "Pulling 6000 images from bulldozer.npy... Done\n",
            "Pulling 6000 images from grass.npy... Done\n",
            "Pulling 6000 images from windmill.npy... Done\n",
            "Pulling 6000 images from parrot.npy... Done\n",
            "Pulling 6000 images from birthday_cake.npy... Done\n",
            "Pulling 6000 images from hand.npy... Done\n",
            "Pulling 6000 images from spider.npy... Done\n",
            "Pulling 6000 images from axe.npy... Done\n",
            "Extracted 123 categories in 'dataset-6000' folder.\n"
          ],
          "name": "stdout"
        }
      ]
    },
    {
      "cell_type": "code",
      "metadata": {
        "id": "9ttJ4H4xIiCw",
        "colab_type": "code",
        "colab": {}
      },
      "source": [
        "from keras.models import Sequential\n",
        "from keras.layers import Convolution2D\n",
        "from keras.layers import MaxPooling2D\n",
        "from keras.layers import Flatten\n",
        "\n",
        "from keras.layers import Dense\n",
        "from keras.layers import Dropout\n",
        "\n",
        "import numpy as np\n",
        "\n",
        "\n",
        "# the cnn architecture defined as follows\n",
        "classifier = Sequential()\n",
        "\n",
        "# first conv layer\n",
        "classifier.add(Convolution2D(\n",
        "        input_shape=(28,28,1),\n",
        "        filters=16,\n",
        "        kernel_size=(3,3),\n",
        "        activation='relu',\n",
        "        kernel_initializer='uniform'))\n",
        "\n",
        "# max pooling layer\n",
        "classifier.add(MaxPooling2D(\n",
        "        pool_size=(2,2),\n",
        "        strides=(2,2)))\n",
        "\n",
        "# second conv layer\n",
        "classifier.add(Convolution2D(\n",
        "        filters=16,\n",
        "        kernel_size=(3,3),\n",
        "        activation='relu',\n",
        "        kernel_initializer='uniform'))\n",
        "\n",
        "# max pooling layer\n",
        "classifier.add(MaxPooling2D(\n",
        "        pool_size=(2,2),\n",
        "        strides=(2,2)))\n",
        "\n",
        "# flattening for feeding the data to a fully connected artificial neural network\n",
        "classifier.add(Flatten())\n",
        "\n",
        "# first hidden layer\n",
        "classifier.add(Dense(units=256, activation='relu', kernel_initializer='uniform'))\n",
        "classifier.add(Dropout(rate=0.5))\n",
        "\n",
        "# output layer\n",
        "classifier.add(Dense(units=123, activation='softmax', kernel_initializer='uniform'))\n",
        "\n",
        "# compiling the CNN\n",
        "classifier.compile(optimizer='adam', loss='categorical_crossentropy', metrics=['accuracy'])"
      ],
      "execution_count": 0,
      "outputs": []
    },
    {
      "cell_type": "code",
      "metadata": {
        "id": "gDTX8UQ39AtP",
        "colab_type": "code",
        "colab": {
          "base_uri": "https://localhost:8080/",
          "height": 51
        },
        "outputId": "66ae8b63-62d3-423b-adce-6019d989c4e7"
      },
      "source": [
        "# well... after rescaling (dividing by 255), if pixel value is less than 0.3 the consider a black pixel otherwise a white one\n",
        "def preprocessing(img):\n",
        "    img = img/255\n",
        "    return np.where(img < 0.3, 0, 1)\n",
        "\n",
        "# image preprocessing before feeding into the CNN\n",
        "from keras.preprocessing.image import ImageDataGenerator\n",
        "\n",
        "data_generator = ImageDataGenerator(preprocessing_function=preprocessing, validation_split=0.18)\n",
        "\n",
        "# training data set\n",
        "train_set = data_generator.flow_from_directory(\n",
        "        'dataset/dataset-6000/',\n",
        "        batch_size=32,\n",
        "        target_size=(28,28), color_mode='grayscale', subset='training')\n",
        "\n",
        "# testing/validation data set\n",
        "test_set = data_generator.flow_from_directory(\n",
        "        'dataset/dataset-6000/',\n",
        "        batch_size=32,\n",
        "        target_size=(28,28), color_mode='grayscale', subset='validation')"
      ],
      "execution_count": 2,
      "outputs": [
        {
          "output_type": "stream",
          "text": [
            "Found 605160 images belonging to 123 classes.\n",
            "Found 132840 images belonging to 123 classes.\n"
          ],
          "name": "stdout"
        }
      ]
    },
    {
      "cell_type": "code",
      "metadata": {
        "id": "KvRrdR5_-2-q",
        "colab_type": "code",
        "colab": {
          "base_uri": "https://localhost:8080/",
          "height": 34
        },
        "outputId": "c4be3d1e-5cba-4ef4-a4af-76d55219bc7b"
      },
      "source": [
        "open('class_indices', 'w').write(str(train_set.class_indices))"
      ],
      "execution_count": 5,
      "outputs": [
        {
          "output_type": "execute_result",
          "data": {
            "text/plain": [
              "1809"
            ]
          },
          "metadata": {
            "tags": []
          },
          "execution_count": 5
        }
      ]
    },
    {
      "cell_type": "markdown",
      "metadata": {
        "id": "o7I0WokGMZQe",
        "colab_type": "text"
      },
      "source": [
        "### Epoch 1 - 5"
      ]
    },
    {
      "cell_type": "code",
      "metadata": {
        "id": "CFP32IYFMYjz",
        "colab_type": "code",
        "outputId": "7def70da-f4b1-40a3-c26c-96dea097c2e2",
        "colab": {
          "base_uri": "https://localhost:8080/",
          "height": 187
        }
      },
      "source": [
        "# finally fitting the data and training the CNN\n",
        "history = classifier.fit_generator(\n",
        "        epochs=5,\n",
        "        initial_epoch=0,\n",
        "        generator=train_set,\n",
        "        steps_per_epoch=18911,\n",
        "        validation_data=test_set,\n",
        "        validation_steps=4151,\n",
        "        use_multiprocessing=True)"
      ],
      "execution_count": 10,
      "outputs": [
        {
          "output_type": "stream",
          "text": [
            "Epoch 1/5\n",
            "18911/18911 [==============================] - 324s 17ms/step - loss: 2.3477 - acc: 0.4320 - val_loss: 1.5830 - val_acc: 0.6109\n",
            "Epoch 2/5\n",
            "18911/18911 [==============================] - 230s 12ms/step - loss: 1.9149 - acc: 0.5284 - val_loss: 1.4593 - val_acc: 0.6413\n",
            "Epoch 3/5\n",
            "18911/18911 [==============================] - 226s 12ms/step - loss: 1.8214 - acc: 0.5509 - val_loss: 1.3950 - val_acc: 0.6550\n",
            "Epoch 4/5\n",
            "18911/18911 [==============================] - 227s 12ms/step - loss: 1.7744 - acc: 0.5617 - val_loss: 1.3959 - val_acc: 0.6549\n",
            "Epoch 5/5\n",
            "18911/18911 [==============================] - 229s 12ms/step - loss: 1.7417 - acc: 0.5690 - val_loss: 1.3489 - val_acc: 0.6670\n"
          ],
          "name": "stdout"
        }
      ]
    },
    {
      "cell_type": "code",
      "metadata": {
        "id": "bgjjepuDCEec",
        "colab_type": "code",
        "colab": {
          "base_uri": "https://localhost:8080/",
          "height": 295
        },
        "outputId": "fa24ddcc-7c82-42da-e7b4-aac896436e2a"
      },
      "source": [
        "import matplotlib.pyplot as plt\n",
        "\n",
        "# summarize history for accuracy\n",
        "plt.plot(history.history['acc'])\n",
        "plt.plot(history.history['val_acc'])\n",
        "plt.title('model accuracy')\n",
        "plt.ylabel('accuracy')\n",
        "plt.xlabel('epoch')\n",
        "plt.legend(['train', 'test'], loc='upper left')\n",
        "plt.show()"
      ],
      "execution_count": 11,
      "outputs": [
        {
          "output_type": "display_data",
          "data": {
            "image/png": "[encoded data removed]",
            "text/plain": [
              "<Figure size 432x288 with 1 Axes>"
            ]
          },
          "metadata": {
            "tags": []
          }
        }
      ]
    },
    {
      "cell_type": "code",
      "metadata": {
        "id": "DWlVq6zyGdZ6",
        "colab_type": "code",
        "colab": {}
      },
      "source": [
        "classifier.save('model-v6-28-123-6670.h5')"
      ],
      "execution_count": 0,
      "outputs": []
    },
    {
      "cell_type": "code",
      "metadata": {
        "id": "vGdJUgdB5Ygt",
        "colab_type": "code",
        "outputId": "92e4fac8-c157-4e6d-8511-43e578e5eb79",
        "colab": {
          "base_uri": "https://localhost:8080/",
          "height": 102
        }
      },
      "source": [
        "! ls -l --block-size=MB"
      ],
      "execution_count": 13,
      "outputs": [
        {
          "output_type": "stream",
          "text": [
            "total 2MB\n",
            "-rw-r--r-- 1 root root 1MB Jun 20 03:45 class_indices\n",
            "drwxr-xr-x 4 root root 1MB Jun 20 03:23 dataset\n",
            "-rw-r--r-- 1 root root 2MB Jun 20 04:16 model-v6-28-123.h5\n",
            "drwxr-xr-x 1 root root 1MB May 31 16:17 sample_data\n"
          ],
          "name": "stdout"
        }
      ]
    },
    {
      "cell_type": "markdown",
      "metadata": {
        "id": "YM80lONMGp67",
        "colab_type": "text"
      },
      "source": [
        "### Epoch 0 - 10 - after initial training"
      ]
    },
    {
      "cell_type": "code",
      "metadata": {
        "id": "BJZ3cZPsGo-D",
        "colab_type": "code",
        "colab": {
          "base_uri": "https://localhost:8080/",
          "height": 357
        },
        "outputId": "68962401-e1d7-4aca-9b38-8491601b86bc"
      },
      "source": [
        "history = classifier.fit_generator(\n",
        "        epochs=10,\n",
        "        initial_epoch=0,\n",
        "        generator=train_set,\n",
        "        steps_per_epoch=18911,\n",
        "        validation_data=test_set,\n",
        "        validation_steps=4151,\n",
        "        use_multiprocessing=True)"
      ],
      "execution_count": 14,
      "outputs": [
        {
          "output_type": "stream",
          "text": [
            "Epoch 1/10\n",
            "18911/18911 [==============================] - 234s 12ms/step - loss: 1.7228 - acc: 0.5732 - val_loss: 1.3442 - val_acc: 0.6679\n",
            "Epoch 2/10\n",
            "18911/18911 [==============================] - 231s 12ms/step - loss: 1.7063 - acc: 0.5769 - val_loss: 1.3226 - val_acc: 0.6721\n",
            "Epoch 3/10\n",
            "18911/18911 [==============================] - 229s 12ms/step - loss: 1.6909 - acc: 0.5808 - val_loss: 1.3146 - val_acc: 0.6740\n",
            "Epoch 4/10\n",
            "18911/18911 [==============================] - 230s 12ms/step - loss: 1.6808 - acc: 0.5834 - val_loss: 1.3006 - val_acc: 0.6773\n",
            "Epoch 5/10\n",
            "18911/18911 [==============================] - 231s 12ms/step - loss: 1.6766 - acc: 0.5844 - val_loss: 1.3003 - val_acc: 0.6787\n",
            "Epoch 6/10\n",
            "18911/18911 [==============================] - 230s 12ms/step - loss: 1.6712 - acc: 0.5867 - val_loss: 1.3116 - val_acc: 0.6735\n",
            "Epoch 7/10\n",
            "18911/18911 [==============================] - 228s 12ms/step - loss: 1.6650 - acc: 0.5874 - val_loss: 1.3020 - val_acc: 0.6775\n",
            "Epoch 8/10\n",
            "18911/18911 [==============================] - 230s 12ms/step - loss: 1.6611 - acc: 0.5883 - val_loss: 1.3401 - val_acc: 0.6692\n",
            "Epoch 9/10\n",
            "18911/18911 [==============================] - 245s 13ms/step - loss: 1.6595 - acc: 0.5885 - val_loss: 1.2879 - val_acc: 0.6787\n",
            "Epoch 10/10\n",
            "18911/18911 [==============================] - 248s 13ms/step - loss: 1.6577 - acc: 0.5891 - val_loss: 1.2877 - val_acc: 0.6829\n"
          ],
          "name": "stdout"
        }
      ]
    },
    {
      "cell_type": "code",
      "metadata": {
        "id": "_MGR5PgYO7l0",
        "colab_type": "code",
        "colab": {
          "base_uri": "https://localhost:8080/",
          "height": 295
        },
        "outputId": "4b059031-d4ca-4c36-a9d4-b482591b8b1f"
      },
      "source": [
        "# summarize history for accuracy\n",
        "plt.plot(history.history['acc'])\n",
        "plt.plot(history.history['val_acc'])\n",
        "plt.title('model accuracy')\n",
        "plt.ylabel('accuracy')\n",
        "plt.xlabel('epoch')\n",
        "plt.legend(['train', 'test'], loc='upper left')\n",
        "plt.show()"
      ],
      "execution_count": 15,
      "outputs": [
        {
          "output_type": "display_data",
          "data": {
            "image/png": "[encoded data removed]",
            "text/plain": [
              "<Figure size 432x288 with 1 Axes>"
            ]
          },
          "metadata": {
            "tags": []
          }
        }
      ]
    },
    {
      "cell_type": "code",
      "metadata": {
        "id": "tAQVCfiOO_Uj",
        "colab_type": "code",
        "colab": {}
      },
      "source": [
        "classifier.save('model-v6-28-123-6829.h5')"
      ],
      "execution_count": 0,
      "outputs": []
    },
    {
      "cell_type": "code",
      "metadata": {
        "id": "u4vtM_SMP2YL",
        "colab_type": "code",
        "colab": {}
      },
      "source": [
        ""
      ],
      "execution_count": 0,
      "outputs": []
    }
  ]
}
